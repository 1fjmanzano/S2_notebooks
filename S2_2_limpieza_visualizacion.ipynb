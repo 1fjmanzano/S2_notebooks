{
 "cells": [
  {
   "cell_type": "markdown",
   "metadata": {},
   "source": [
    "# Limpieza y visualización de datos\n",
    "\n",
    "En esta práctica vamos a ver diferentes formas de trabajar con datos nulos:\n",
    "- eliminando las filas con valores NA\n",
    "- sustituyendo valores NA por la media\n",
    "- sustituyendo valores NA por la mediana\n",
    "\n",
    "Para esta práctica, vamos a referirnos a la infección por el virus de la hepatitis C (HCV por sus siglas en inglés) que es un problema de salud que afecta a más de 100 millones de personas en el mundo. No obstante, y a pesar de la elevada cifra de afectados, sólo una parte de ellos presentará problemas graves derivados de la persistencia del virus. La infección aguda por el HCV es habitualmente asintomática y, por tanto, difícil de reconocer.\n",
    "\n",
    "La prueba del virus de la hepatitis C consiste en un análisis de sangre que detecta material genético del virus que causa la hepatitis o las proteínas que produce el cuerpo contra el HCV. Para ello se utiliza la reacción en cadena de la polimerasa (PCR)."
   ]
  },
  {
   "cell_type": "code",
   "execution_count": null,
   "metadata": {},
   "outputs": [],
   "source": [
    "#Se cargan las librerías iniciales\n",
    "library(ggplot2)\n",
    "library(data.table)\n",
    "library(tidyverse)"
   ]
  },
  {
   "cell_type": "markdown",
   "metadata": {},
   "source": [
    "# Datos\n",
    "Cargamos los datos directamente de la web https://archive.ics.uci.edu/ml/datasets/HCV+data.\n",
    "El conjunto de datos consiste en 615 registros de pacientes con 14 variables:\n",
    "\n",
    "- **X**: número del paciente\n",
    "- **Category**: Distingue donantes sanos de personas afectadas y los grados de afectación. Categórica. 5 valores diferentes.\n",
    "- **Age**: Edad del paciente. Numérica.\n",
    "- **Sex**: Sexo del paciente. Categórica. 2 valores diferentes.\n",
    "- **ALB**: Nivel de albúmina en sangre. Numérica.\n",
    "- **ALP**: Nivel de fosfatasa alcalina en sangre. Numérica.\n",
    "- **ALT**: Nivel de transaminasa alcalina en sangre. Numérica.\n",
    "- **AST**: Nivel de aspartato de aminotransferasa en sangre. Numérica.\n",
    "- **BIL**: Nivel de bilirrubina en sangre. Numérica.\n",
    "- **CHE**: Nivel de colinesterasa en sangre. Numérica.\n",
    "- **CHOL**: Nivel de colesterol en sangre. Numérica.\n",
    "- **CREA**: Nivel de creatinina en sangre. Numérica.\n",
    "- **GGT**: Nivel de gamma glutamil transferasa en sangre. Numérica.\n",
    "- **PROT**: Nivel de proteína en sangre. Numérica."
   ]
  },
  {
   "cell_type": "code",
   "execution_count": null,
   "metadata": {},
   "outputs": [],
   "source": [
    "# Cargamos datos directamente de la web en la variable datos\n",
    "\n",
    "datos <- read.csv(\"http://archive.ics.uci.edu/ml/machine-learning-databases/00571/hcvdat0.csv\")"
   ]
  },
  {
   "cell_type": "code",
   "execution_count": null,
   "metadata": {},
   "outputs": [],
   "source": [
    "# Comprobamos el número de datos y vemos el encabezado y\n",
    "# las primeras filas\n",
    "dim(datos)\n",
    "head(datos)"
   ]
  },
  {
   "cell_type": "code",
   "execution_count": null,
   "metadata": {},
   "outputs": [],
   "source": [
    "# Vemos un resumen del tipo de variables\n",
    "str(datos)"
   ]
  },
  {
   "cell_type": "code",
   "execution_count": null,
   "metadata": {},
   "outputs": [],
   "source": [
    "# Vemos un resumen de los datos\n",
    "summary(datos)"
   ]
  },
  {
   "cell_type": "markdown",
   "metadata": {},
   "source": [
    "Vemos valores NA en algunas variables (ALB, ALP...). Podemos contarlos por columnas "
   ]
  },
  {
   "cell_type": "code",
   "execution_count": null,
   "metadata": {},
   "outputs": [],
   "source": [
    "#Contar el total de NAs en la base de datos\n",
    "sum(is.na(datos))"
   ]
  },
  {
   "cell_type": "code",
   "execution_count": null,
   "metadata": {},
   "outputs": [],
   "source": [
    "# Contar número de nulos por columna\n",
    "sapply(datos, function(x) sum(is.na(x)))"
   ]
  },
  {
   "cell_type": "markdown",
   "metadata": {},
   "source": [
    "Una opción muy interesante es visualizar cuántos y dónde tenemos valores nulos con la función `vis_miss` del paquete **visdat**."
   ]
  },
  {
   "cell_type": "code",
   "execution_count": null,
   "metadata": {},
   "outputs": [],
   "source": [
    "# Si no está instalada:\n",
    "# Utilice este código: install.packages(\"visdat\") para instalar la librería\n",
    "library(visdat)\n",
    "vis_miss(datos)"
   ]
  },
  {
   "cell_type": "markdown",
   "metadata": {},
   "source": [
    "Tenemos varias opciones para proceder con los valores nulos:\n",
    "- Opción 1: Eliminar todas las filas con datos nulos\n",
    "- Opción 2: eliminar algunas filas con datos NA\n",
    "- Opción 3: Imputación con la media\n",
    "- Opción 4: imputación con la mediana"
   ]
  },
  {
   "cell_type": "markdown",
   "metadata": {},
   "source": [
    "# Opción 1: Eliminar todas las filas con datos nulos \n",
    "\n",
    "Hemos visto que únicamente un porcentaje muy pequeño del total de los datos son NA. En esta opción, con la función `na.omit`, eliminamos las filas con datos NA."
   ]
  },
  {
   "cell_type": "code",
   "execution_count": null,
   "metadata": {},
   "outputs": [],
   "source": [
    "# Eliminamos las filas con algún dato NA\n",
    "datos1 <-  na.omit(datos)\n",
    "sapply(datos1, function(x) sum(is.na(x)))"
   ]
  },
  {
   "cell_type": "code",
   "execution_count": null,
   "metadata": {},
   "outputs": [],
   "source": [
    "# Comparamos el número de datos original y el obtenido\n",
    "dim(datos)\n",
    "dim(datos1)"
   ]
  },
  {
   "cell_type": "markdown",
   "metadata": {},
   "source": [
    "# Opción 2: eliminar algunas filas con datos NA\n",
    "\n",
    "En algunos casos nos puede interesar eliminar únicamente algunas filas con datos NA. Para ello, primero localizamos las filas con datos nulos y procedemos a eliminarlas una por una."
   ]
  },
  {
   "cell_type": "code",
   "execution_count": null,
   "metadata": {},
   "outputs": [],
   "source": [
    "# Localizar filas con NA función complete.cases\n",
    "# El símbolo ! indica que no muestre los que tienen todos los datos, es decir,\n",
    "# únicamente va a mostrar los que tienen valores NA\n",
    "head(datos[!complete.cases(datos), ])"
   ]
  },
  {
   "cell_type": "code",
   "execution_count": null,
   "metadata": {},
   "outputs": [],
   "source": [
    "# Listado de filas con NA almacenados en with_na\n",
    "with_na <- datos[!complete.cases(datos), ]\n",
    "with_na"
   ]
  },
  {
   "cell_type": "code",
   "execution_count": null,
   "metadata": {},
   "outputs": [],
   "source": [
    "# Eliminamos (como ejemplo) la fila 122 y almacenamos en datos2\n",
    "datos2 <- datos[-122,]\n",
    "# comprobamos que la hemos eliminado\n",
    "with_na2 <- datos2[!complete.cases(datos2), ]\n",
    "with_na2"
   ]
  },
  {
   "cell_type": "markdown",
   "metadata": {},
   "source": [
    "# Opción 3: Imputación con la media\n",
    "\n",
    "Evidentemente, esta opción 3 únicamente es válida para variables con valores numéricos.\n",
    "En este caso se sustituye cada valor NA por el valor medio de la variable (columna) a la que pertenece."
   ]
  },
  {
   "cell_type": "code",
   "execution_count": null,
   "metadata": {},
   "outputs": [],
   "source": [
    "# Reemplazo de NA por la media de la columna correspondiente\n",
    "datos_media <- data.frame(\n",
    "    sapply(\n",
    "        datos,\n",
    "        function(x) ifelse(is.na(x),\n",
    "            mean(x, na.rm = TRUE),\n",
    "            x)))\n",
    "# Comprobamos que ya no hay NA\n",
    "        sapply(datos_media, function(x) sum(is.na(x)))"
   ]
  },
  {
   "cell_type": "markdown",
   "metadata": {},
   "source": [
    "# Opción 4: imputación con la mediana\n",
    "\n",
    "Recordamos que para el cálculo de la mediana, sólo influyen los valores centrales de la distribución. Además, la mediana es insensible a valores extremos (la media es muy sensible a valores extremos). \n",
    "De este modo, habrá casos en los que nos interese sustituir los valores nulos por la mediana de la variable correspondiente."
   ]
  },
  {
   "cell_type": "code",
   "execution_count": null,
   "metadata": {},
   "outputs": [],
   "source": [
    "# Reemplazo de Na por la media de la columna correspondiente\n",
    "datos_mediana <- data.frame(\n",
    "    sapply(\n",
    "        datos,\n",
    "        function(x) ifelse(is.na(x),\n",
    "            median(x, na.rm = TRUE),\n",
    "            x)))\n",
    "# Comprobamos que ya no hay NA\n",
    "        sapply(datos_mediana, function(x) sum(is.na(x)))"
   ]
  },
  {
   "cell_type": "markdown",
   "metadata": {},
   "source": [
    "# Limpieza de datos\n",
    "Comenzamos transformando las variables categóricas en factores en el conjunto de datos original."
   ]
  },
  {
   "cell_type": "code",
   "execution_count": null,
   "metadata": {},
   "outputs": [],
   "source": [
    "datos$Sex <- as.factor(datos$Sex)\n",
    "datos$Category <- as.factor(datos$Category)"
   ]
  },
  {
   "cell_type": "markdown",
   "metadata": {},
   "source": [
    "La variable `Category` del dataset original puede tener los siguientes valores:"
   ]
  },
  {
   "cell_type": "code",
   "execution_count": null,
   "metadata": {},
   "outputs": [],
   "source": [
    "levels(datos$Category)"
   ]
  },
  {
   "cell_type": "markdown",
   "metadata": {},
   "source": [
    "Dado que las categorías “0=Blood Donor” y “0s=suspect Blood Donor” se refieren a personas no infectadas por HCV, se cambian esas categorías por “Donor”. El resto de categorías se renombran como “Hepatitis”, “Fibrosis”, “Cirrhosis”"
   ]
  },
  {
   "cell_type": "code",
   "execution_count": null,
   "metadata": {},
   "outputs": [],
   "source": [
    "levels(datos$Category) <- c(\"Donor\", \"Donor\", \"Hepatitis\", \"Fibrosis\", \"Cirrhosis\")\n",
    "datos <- as.data.table(datos)\n",
    "levels(datos$Category)"
   ]
  },
  {
   "cell_type": "markdown",
   "metadata": {},
   "source": [
    "# Visualización de datos\n",
    "Procedemos a realizar un estudio preliminar de la distribución de datos de forma visual.\n",
    "Vemos cómo es la distribución de la enfermedad por edad."
   ]
  },
  {
   "cell_type": "code",
   "execution_count": null,
   "metadata": {},
   "outputs": [],
   "source": [
    "p <- ggplot(data = datos[Category!=\"Donor\"], aes(x = Age)) +\n",
    "     geom_histogram( aes(fill = Category)) +\n",
    "     scale_fill_brewer(palette=\"Dark2\") +\n",
    "     theme(plot.title = element_text(face = \"bold\"))\n",
    "q <- p + facet_grid(cols=vars(Category))\n",
    "cowplot::plot_grid(p, q, ncol = 1) "
   ]
  },
  {
   "cell_type": "markdown",
   "metadata": {},
   "source": [
    "Veamos cómo es cada parámetro sanguíneo por categoría:"
   ]
  },
  {
   "cell_type": "code",
   "execution_count": null,
   "metadata": {},
   "outputs": [],
   "source": [
    "hcvdat <- datos\n",
    "geomBoxplotGraph <- function(data, x, y, title){\n",
    "  g <- ggplot(data, aes(x, y, colour = x)) +\n",
    "    geom_boxplot() +\n",
    "    labs(title = title) +\n",
    "    scale_fill_brewer(palette=\"Dark2\") +\n",
    "    theme(axis.text.x = element_text(angle = 30))\n",
    "  return(g)\n",
    "}\n",
    "\n",
    "g.ALB <- geomBoxplotGraph(hcvdat, hcvdat$Category, hcvdat$ALB, \"Albúmina (ALB)\")\n",
    "g.ALP <- geomBoxplotGraph(hcvdat, hcvdat$Category, hcvdat$ALP, \"Fosfatasa Alcalina (ALP)\")\n",
    "g.ALT <- geomBoxplotGraph(hcvdat, hcvdat$Category, hcvdat$ALT, \"Transaminasa Alcalina (ALT)\")\n",
    "g.AST <- geomBoxplotGraph(hcvdat, hcvdat$Category, hcvdat$AST, \"Aspartato de Aminotransferasa (AST)\")\n",
    "g.BIL <- geomBoxplotGraph(hcvdat, hcvdat$Category, hcvdat$BIL, \"Bilirrubina (BIL)\")\n",
    "g.CHE <- geomBoxplotGraph(hcvdat, hcvdat$Category, hcvdat$CHE, \"Colinesterasa (CHE)\")\n",
    "g.CHOL <- geomBoxplotGraph(hcvdat, hcvdat$Category, hcvdat$ALB, \"Colesterol (CHOL)\")\n",
    "g.CREA <- geomBoxplotGraph(hcvdat, hcvdat$Category, hcvdat$ALB, \"Creatinina (CREA)\")\n",
    "g.GGT <- geomBoxplotGraph(hcvdat, hcvdat$Category, hcvdat$ALB, \"Gamma Glutamil Transferasa (GGT)\")\n",
    "g.PROT <- geomBoxplotGraph(hcvdat, hcvdat$Category, hcvdat$ALB, \"Proteína (PROT)\")\n",
    "cowplot::plot_grid(g.ALB, g.ALP , g.ALT, g.AST, g.BIL, g.CHE, g.CHOL, g.CREA, g.GGT, g.PROT, ncol=2)"
   ]
  },
  {
   "cell_type": "markdown",
   "metadata": {},
   "source": [
    "Hemos obtenido algún error debido a que estamos utilizando los datos originales sin haber hecho tratamiento alguno con los datos nulos.\n",
    "A la vista de las gráficas puede parecer que, en algunos casos, se puede aislar alguna categoría de las otras en función de los valores de la variable. Vamos a ver la nube de puntos para comprobar si eso es posible o no."
   ]
  },
  {
   "cell_type": "code",
   "execution_count": null,
   "metadata": {},
   "outputs": [],
   "source": [
    "# Se crea un data table alargando hcvdat de manera que la columna \n",
    "# _Value_ contiene los valores de cada parámetro sanguíneo \n",
    "# y los nombres de éstas columnas pasan a ser categorías.\n",
    "hcvdat_pt <- select(hcvdat, X, ALB:PROT) %>% gather(Parameter, Value, -X)\n",
    "hcvdat_pt <- merge.data.table(hcvdat_pt, hcvdat[,.(X , Category)], by = \"X\")\n",
    "\n",
    "f <- ggplot(hcvdat_pt, aes(Parameter, Value) ) +\n",
    "  geom_point(aes(colour = Category, shape = Category)) +\n",
    "  labs(title = \"Parámetros sanguíneos\") +\n",
    "  scale_fill_brewer(palette=\"Dark2\") +\n",
    "  theme(axis.text.x = element_text(angle = 30))\n",
    "f"
   ]
  },
  {
   "cell_type": "markdown",
   "metadata": {},
   "source": [
    "Vemos que se solapan los rangos de los valores que toma cada categoría en cada variable y, por tanto, no es posible aislar los puntos en cada caso en varios tramos.\n",
    "Al igual que en la obtención de los gráficos anteriores, nos ha aparecido un mensaje de error debido a la presencia de valores nulos; por ello es conveniente eliminarlos mediante alguna de las opciones descritas en esta práctica.\n",
    "\n",
    "**Ejercicio**: obtenga las gráficas anteriores cambiando el conjunto de datos original `datos` por los datos obtenidos con las opciones anteriores:\n",
    "\n",
    "- `datos 1` correspondiente a la Opción 1\n",
    "- `datos_media` correspondiente a la Opción 3\n",
    "- `datos_mediana` correspondiente a la Opción 4\n",
    "\n",
    "Recuerde realizar la limpieza de datos previamente."
   ]
  },
  {
   "cell_type": "code",
   "execution_count": null,
   "metadata": {},
   "outputs": [],
   "source": []
  }
 ],
 "metadata": {
  "kernelspec": {
   "display_name": "R",
   "language": "R",
   "name": "ir"
  },
  "language_info": {
   "codemirror_mode": "r",
   "file_extension": ".r",
   "mimetype": "text/x-r-source",
   "name": "R",
   "pygments_lexer": "r",
   "version": "3.6.0"
  }
 },
 "nbformat": 4,
 "nbformat_minor": 4
}
