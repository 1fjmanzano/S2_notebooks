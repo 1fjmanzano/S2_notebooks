{
 "cells": [
  {
   "cell_type": "markdown",
   "metadata": {},
   "source": [
    "# Estadística Descriptiva en R\n",
    "\n",
    "Vamos a analizar conjuntos de datos entendiendo cómo se distribuyen y recordando (y obteniendo con R) algunos conceptos estadísticos básicos."
   ]
  },
  {
   "cell_type": "markdown",
   "metadata": {},
   "source": [
    "## Introducción\n",
    "Además de obtener información gráfica de un conjunto de datos, debemos resumirlos de forma numérica. Para practicar, vamos a analizar un conjunto de datos sobre la incidencia de leucemia, linfoma y mieloma múltiple entre los sobrevivientes de la bomba atómica (1950-2001).\n",
    "\n",
    "Los datos almacenados en el archivo `lsshempy .csv` de la carpeta `_data` se han obtenido (después de haber registrado nuestros nombres y afiliaciones) de:\n",
    "https://www.rerf.or.jp/en/library/data-en/lsshempy/\n",
    "\n",
    "Fuente: *HSU, Wan-Ling, et al. The incidence of leukemia, lymphoma and multiple myeloma among atomic bomb survivors: 1950–2001. Radiation research, 2013, vol. 179, no 3, p. 361-382*.\n",
    "\n",
    "Procedemos a cargar los datos almacenándolos con el nombre `lsshempy` y, posteriormente, vemos las primeras filas de datos."
   ]
  },
  {
   "cell_type": "code",
   "execution_count": null,
   "metadata": {},
   "outputs": [],
   "source": [
    "# Cargamos los datos del csv con el nombre lsshempy\n",
    "lsshempy <- read.csv(\"_data/lsshempy.csv\")\n",
    "# Vemos cuántos datos tenemos\n",
    "dim(lsshempy)\n",
    "# Vemos las primeras filas\n",
    "head(lsshempy)"
   ]
  },
  {
   "cell_type": "markdown",
   "metadata": {},
   "source": [
    "Así, disponemos de 37 variables medidas para 38578 individuos (la fila inicial de cabecera se considera fila 0). En el siguiente enlace:\n",
    "https://www.rerf.or.jp/uploads/2017/09/lsshempy_document.pdf\n",
    "se puede ver la descripción de cada una de las variables. Recomendamos su lectura para saber el significado de las variables con las que vamos a trabajar. \n",
    "\n",
    "Así, el archivo csv podría haberse abierto con una hoja de cálculo (Excel® o LibreOffice) pero sería muy angorroso trabajar con tal cantidad de datos además de que el programa tendría serias dificultades para manejar tanta información. Es por eso que R es una herramienta muy adecuada para trabajar con tal volumen de datos.\n",
    "\n",
    "En R, podemos obtener un listado completo de las variables y de qué tipo son con la instrucción `str`:"
   ]
  },
  {
   "cell_type": "code",
   "execution_count": null,
   "metadata": {},
   "outputs": [],
   "source": [
    "str(lsshempy)"
   ]
  },
  {
   "cell_type": "markdown",
   "metadata": {},
   "source": [
    "### Medidas centrales\n",
    "\n",
    "Para obtener la **moda** de una variable, podemos usar la instrucción *table* (en R no hay una función definida para la moda como sí la hay para la media y la mediana). Así, con el siguiente código, obtenemos la moda de la variable `sex` que es una variable que toma únicamente 2 valores (1 y 2)."
   ]
  },
  {
   "cell_type": "code",
   "execution_count": null,
   "metadata": {},
   "outputs": [],
   "source": [
    "# Hacemos una tabla que cuente los valores\n",
    "table(lsshempy$sex)\n",
    "# Localizamos el máximo de esos 2 valores (la moda)\n",
    "max(table(lsshempy$sex))\n",
    "# Obtenemos la moda de los valores de la variables (1 y 2)\n",
    "which( max(table(lsshempy$sex)) == table(lsshempy$sex))"
   ]
  },
  {
   "cell_type": "markdown",
   "metadata": {},
   "source": [
    "Es decir, vemos que el 2 (Femenino) aparece 19827 veces y el 1 (Masculino) aparece 18751 veces; por lo tanto, Femenino es la moda de la distribución. "
   ]
  },
  {
   "cell_type": "markdown",
   "metadata": {},
   "source": [
    "Vamos a explorar la variables `agxcat` (Age at exposure categories) and `mar_ag`(Person year weighted mean weighted adjusted truncated DS02 Bone Marrow Gamma). En este caso, se trata de variables continuas por lo que parece más adecuado trabajar con la **media**. Para obtenerla:"
   ]
  },
  {
   "cell_type": "code",
   "execution_count": null,
   "metadata": {},
   "outputs": [],
   "source": [
    "# Media de la variable agxcat\n",
    "mean(lsshempy$agxcat)\n",
    "# Media de la variable mar_ag\n",
    "mean(lsshempy$mar_ag)"
   ]
  },
  {
   "cell_type": "markdown",
   "metadata": {},
   "source": [
    "Si necesitamos calcular rápidamente la media dentro de los grupos (por ejemplo, las medias de los rayos gamma de la médula ósea persona-año en la ciudad 1 (Hiroshima) y 2 (Nagasaki)), podemos usar la función *tapply*:"
   ]
  },
  {
   "cell_type": "code",
   "execution_count": null,
   "metadata": {},
   "outputs": [],
   "source": [
    "tapply(lsshempy$mar_ag, lsshempy$city, mean)"
   ]
  },
  {
   "cell_type": "markdown",
   "metadata": {},
   "source": [
    "Sin embargo, para la variable discreta *agxcat*, la media aritmética no es aconsejable. En este caso, es preferible la **mediana,** (que es 6)."
   ]
  },
  {
   "cell_type": "code",
   "execution_count": null,
   "metadata": {},
   "outputs": [],
   "source": [
    "median(lsshempy$agxcat)"
   ]
  },
  {
   "cell_type": "markdown",
   "metadata": {},
   "source": [
    "### Medidas de dispersión\n",
    "Las medidas de dispersion, es decir, la **desviación estándar** y la **varianza** de una variable numérica se pueden calcular fácilmente con:"
   ]
  },
  {
   "cell_type": "code",
   "execution_count": null,
   "metadata": {},
   "outputs": [],
   "source": [
    "# Desviación estándar\n",
    "sd(lsshempy$mar_ag)\n",
    "# Varianza\n",
    "var(lsshempy$mar_ag)"
   ]
  },
  {
   "cell_type": "markdown",
   "metadata": {},
   "source": [
    "Podemos añadir texto a los valores obtenidos de forma muy sencilla con la instrucción `print`incluyendo el valor numérico con `as.character`."
   ]
  },
  {
   "cell_type": "code",
   "execution_count": null,
   "metadata": {},
   "outputs": [],
   "source": [
    "print(paste('La desviación estándar de la variable mar_ag es', \n",
    "            as.character(sd(lsshempy$mar_ag))))"
   ]
  },
  {
   "cell_type": "markdown",
   "metadata": {},
   "source": [
    "Como hemos comentado, es conveniente visualizar los datos. En el caso de las variables `mar_ad10`, `mar_ag`y `mar_an` lo más conveniente es usar un histograma:"
   ]
  },
  {
   "cell_type": "code",
   "execution_count": null,
   "metadata": {},
   "outputs": [],
   "source": [
    "par(mfrow=c(3,1))\n",
    "hist(lsshempy$mar_ad10)\n",
    "hist(lsshempy$mar_ag)\n",
    "hist(lsshempy$mar_an)"
   ]
  },
  {
   "cell_type": "markdown",
   "metadata": {},
   "source": [
    "### Cuantiles y percentiles\n",
    "Igual que la mediana nos divide los datos en 2 partes iguales, los cuantiles y percentiles dividen los datos de la distribución en función de otras cantidades. Así en primer cuantil es un valor que deja el 25% de los datos por debajo y el percentil 90 deja el 90% de los datos por debajo.\n",
    "Ejecute el siguiente cógido e interprete el resultado para la variable `agxcat`."
   ]
  },
  {
   "cell_type": "code",
   "execution_count": null,
   "metadata": {},
   "outputs": [],
   "source": [
    "median(lsshempy$agxcat)\n",
    "quantile(lsshempy$agxcat, 0.50)\n",
    "summary(lsshempy$agxcat)\n",
    "quantile(lsshempy$agxcat, 0.25)\n",
    "quantile(lsshempy$agxcat, 1)\n",
    "quantile(lsshempy$agxcat, probs=c(0.05, 0.5, 0.8))"
   ]
  },
  {
   "cell_type": "markdown",
   "metadata": {},
   "source": [
    "### Diagramas de cajas y bigotes\n",
    "Esta forma de representar los datos utiliza los valores obtenidos anteriormente con la instrucción `summary(lsshempy$agxcat)`\n",
    "\n",
    "|  Min.  |1st Qu.  |Median |Mean    |3rd Qu.  |Max.   |\n",
    "|--------|---------|-------|--------|---------|-------|\n",
    "| 1.000  | 3.000   | 6.000 |6.364   | 9.000   |15.000 |\n"
   ]
  },
  {
   "cell_type": "code",
   "execution_count": null,
   "metadata": {},
   "outputs": [],
   "source": [
    "# Diagrama de cajas y bigotes\n",
    "boxplot(lsshempy$agxcat)"
   ]
  },
  {
   "cell_type": "markdown",
   "metadata": {},
   "source": [
    "También podemos usar la librería `ggplot2` para obtener ese mismo diagrama de cajas y bigotes añadiendo etiquetas."
   ]
  },
  {
   "cell_type": "code",
   "execution_count": null,
   "metadata": {},
   "outputs": [],
   "source": [
    "# Cargamos la librería ggplot2\n",
    "library(ggplot2)\n",
    "# Transformamos el vector agxcat en dataframe y lo llamamos df_agxcat\n",
    "df_agxcat <- data.frame(lsshempy$agxcat)\n",
    "# Generamos el gráfico\n",
    "ggplot(df_agxcat, aes(x = 'agxcat', y=lsshempy$agxcat)) + geom_boxplot()\n"
   ]
  },
  {
   "cell_type": "markdown",
   "metadata": {},
   "source": [
    "Podemos incluso representar estos diagramas de varias variables para comparar datos. En este caso, el siguiente código representa los *boxplot* de las variables `agxcat`, `agecat`y `dcat`."
   ]
  },
  {
   "cell_type": "code",
   "execution_count": null,
   "metadata": {},
   "outputs": [],
   "source": [
    "ggplot(lsshempy) +\n",
    "       geom_boxplot(aes(x = 'agxcat', y=agxcat))  +\n",
    "       geom_boxplot(aes(x = 'agecat', y=agecat)) +\n",
    "       geom_boxplot(aes(x = 'dcat', y=dcat)) +\n",
    "       ggtitle('Distributions') + ylab('Value')"
   ]
  },
  {
   "cell_type": "markdown",
   "metadata": {},
   "source": [
    "### Normalización de datos\n",
    "\n",
    "Frecuentemente se deben ajustar los valores medidos en diferentes escalas respecto a una escala común, a menudo previamente a un proceso de realizar promedios. Este ajuste se conoce como **normalización**.\n",
    "Existen varios tipos de normalizaciones en estadística. Vamos a comentar dos de ellos.\n",
    "\n",
    "- **Normalización basada en la unidad (Max-Min)**: se define una nueva variable $X_1$ teniendo en cuenta los valores máximo y mínimo de los datos originales X. De este modo, se van a obtener datos normalizados entre 0 y 1. La nueva variable X1 se define por:\n",
    "\n",
    "\\begin{equation} X_1 = \\frac{X-X_{Min}}{X_{Max}-X_{Min}}\\end{equation}\n",
    "\n",
    "- **Normalización residual**: en este caso, se define una nueva variable $X_1$ teniendo en cuenta la media y la desviación típica:\n",
    "\n",
    "\\begin{equation} X_1 = \\frac{X-\\overline{X}}{\\sigma}\\end{equation}\n",
    "\n",
    "Cabe indicar que la media y la desviación típica pueden ser la de la población (en caso de ser conocida) o la de la muestra. Si los datos se distribuyen “normalmente”, la variable $X_1$ tiene media 0 y desviación típica 1.\n",
    "\n",
    "Así, si representamos los diagramas de cajas y bigotes de las variables `gdist`, `agex` y `age`, vemos que tienen muy ditintas medidas:"
   ]
  },
  {
   "cell_type": "code",
   "execution_count": null,
   "metadata": {},
   "outputs": [],
   "source": [
    "ggplot(lsshempy) +\n",
    "       geom_boxplot(aes(x = 'gdist', y=gdist))  +\n",
    "       geom_boxplot(aes(x = 'agex', y=agex)) +\n",
    "       geom_boxplot(aes(x = 'age', y=age)) +\n",
    "       ggtitle('Distributions') + ylab('Value')"
   ]
  },
  {
   "cell_type": "markdown",
   "metadata": {},
   "source": [
    "Así, vamos a normalizar los datos con la normalización basada en la unidad (Max - Min) para poder comparalos visualmente:"
   ]
  },
  {
   "cell_type": "code",
   "execution_count": null,
   "metadata": {},
   "outputs": [],
   "source": [
    "## Definimos la función MinMax\n",
    "min_max = function(x) (x - min(x))/(max(x) - min(x))\n",
    "\n",
    "## Creamos un data frame\n",
    "df_min_max = lsshempy\n",
    "\n",
    "## Aplicamos la función MinMax\n",
    "df_min_max[,c('age','agex','gdist')] = lapply(lsshempy[,c('age','agex','gdist')], min_max)\n",
    "\n",
    "## Representamos el resultado\n",
    "ggplot(df_min_max) +\n",
    "       geom_boxplot(aes(x = 'age', y = age))  +\n",
    "       geom_boxplot(aes(x = 'agex', y = agex)) +\n",
    "       geom_boxplot(aes(x = 'gdist', y = gdist)) +\n",
    "       ggtitle('Distribuciones') + ylab('Valor normalizado Max-Min')"
   ]
  },
  {
   "cell_type": "markdown",
   "metadata": {},
   "source": [
    "### Curtosis y asimetría\n",
    "\n",
    "Vamos a representar los histogramas de las variables:\n",
    "- `mar_ad10`: Person-year weighted mean weighted adjusted-truncated DS02 Bone Marrow dose.\n",
    "- `mar_ag`: Person-year weighted mean weighted adjusted-truncated DS02 Bone Marrow Gamma.\n",
    "- `mar_an`: Person-year weighted mean weighted adjusted-truncated DS02 Bone Marrow Neutron.\n",
    "\n",
    "además de las curvas de densidad de las mismas (a la derecha de cada histograma)."
   ]
  },
  {
   "cell_type": "code",
   "execution_count": null,
   "metadata": {},
   "outputs": [],
   "source": [
    "par(mfrow=c(3,2))\n",
    "hist(lsshempy$mar_ad10)\n",
    "plot(density(lsshempy$mar_ad10))\n",
    "hist(lsshempy$mar_ag)\n",
    "plot(density(lsshempy$mar_ag))\n",
    "hist(lsshempy$mar_an)\n",
    "plot(density(lsshempy$mar_an))"
   ]
  },
  {
   "cell_type": "markdown",
   "metadata": {},
   "source": [
    "Podemos observar que las 3 distribuciones de datos tienen un intervalo de datos con una frecuencia absoluta muy grande en comparación con los demás intervalos. Esto quiere decir que la **curtosis** (apuntamiento) debe ser muy grande y más pronunciada en la variable `mar_an`. Recordamos que si la curtosis es 0, se trata de una distribución mesocúrtica (como una distribución normal)."
   ]
  },
  {
   "cell_type": "code",
   "execution_count": null,
   "metadata": {},
   "outputs": [],
   "source": [
    "# Definimos la función kurtosis (momento de orden 4)\n",
    "kurtosis=function(x) {\n",
    "m4=mean((x-mean(x))^4) \n",
    "kurt=m4/(sd(x)^4)-3  \n",
    "kurt}\n",
    "# Llamamos a dicha función para las 3 variables\n",
    "kurtosis(lsshempy$mar_ad10)\n",
    "kurtosis(lsshempy$mar_ag)\n",
    "kurtosis(lsshempy$mar_an)"
   ]
  },
  {
   "cell_type": "markdown",
   "metadata": {},
   "source": [
    "Para el coeficiente de asimetría, vemos que, tanto las variables `mar_ad10` y `mar_ag` tienen una cola a la derecha (asimetría positiva) y la variable `mar_an` tiene un conjunto de valores a la izquierda que van a a hacer que la asimetría sea negativa."
   ]
  },
  {
   "cell_type": "code",
   "execution_count": null,
   "metadata": {},
   "outputs": [],
   "source": [
    "# Definimos cómo calcular la asimetría (momento de orden 3)\n",
    "skewness=function(x) {\n",
    "m3=mean((x-mean(x))^3)\n",
    "skew=m3/(sd(x)^3)\n",
    "skew}\n",
    "# Llamamos a dicha función para las 3 variables\n",
    "skewness(lsshempy$mar_ad10)\n",
    "skewness(lsshempy$mar_ag)\n",
    "skewness(lsshempy$mar_an)"
   ]
  },
  {
   "cell_type": "markdown",
   "metadata": {},
   "source": [
    "### Coeficiente de variación\n",
    "\n",
    "Recordamos que este coeficiente (calculado como el cociente entre la desviación típica y la media) resulta muy útil para comparar variables con distintas medidas (medias). \n",
    "Así, los coeficientes de variación de las variables `agxcat` y `mar_ag` son:"
   ]
  },
  {
   "cell_type": "code",
   "execution_count": null,
   "metadata": {},
   "outputs": [],
   "source": [
    "# Definimos la función cv como el cociente entre sd y mean\n",
    "cv=function(x) {\n",
    "coef=sd(x)/mean(x)\n",
    "coef}\n",
    "\n",
    "# Llamamos a dicha función para las 3 variables\n",
    "cv(lsshempy$mar_ad10)\n",
    "cv(lsshempy$mar_ag)\n",
    "cv(lsshempy$mar_an)"
   ]
  },
  {
   "cell_type": "code",
   "execution_count": null,
   "metadata": {},
   "outputs": [],
   "source": []
  }
 ],
 "metadata": {
  "kernelspec": {
   "display_name": "R",
   "language": "R",
   "name": "ir"
  },
  "language_info": {
   "codemirror_mode": "r",
   "file_extension": ".r",
   "mimetype": "text/x-r-source",
   "name": "R",
   "pygments_lexer": "r",
   "version": "3.6.0"
  }
 },
 "nbformat": 4,
 "nbformat_minor": 4
}
