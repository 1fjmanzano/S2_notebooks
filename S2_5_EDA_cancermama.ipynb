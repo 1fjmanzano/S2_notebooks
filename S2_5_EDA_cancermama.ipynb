{
 "cells": [
  {
   "cell_type": "markdown",
   "metadata": {},
   "source": [
    "# Descripción.\n",
    "El cáncer de mama es uno de los más comunes entre las mujeres. Los métodos de clasificación y minería de datos (data mining) que se presentan resultan ser de gran utilidad para el diagnóstico y la toma de decisiones médicas.\n",
    "\n",
    "# Conjunto de datos.\n",
    "Vamos a realizar un análisis de la base de datos Wisconsin de diagnóstico sobre cáncer de mama creada por el Dr. William H. Wolberg del hospital universitario de Wisconsin (Estados Unidos). \n",
    "Para crear la base de datos, Dr. Wolberg utilizó muestras obtenidas por punción aspiración con aguja fina de nódulo sólidos de mama. Se utilizó un programa de análisis gráfico de imágenes llamado Xcyt, que obtuvo las variables mediante un análisis citológico basado en un escaneo digital de las muestras de los nódulos. El programa utiliza un algoritmo de ajuste de curva para calcular 10 variables de cada una de las células de la muestra. Finalmente, el programa, calcula el valor medio (mean), el valor extremo (worst) y el error estándar (se) de cada muestra de la imagen devolviendo así 30 variables.\n",
    "\n",
    "<img src=\"_img/breast_img.png\">\n",
    "\n",
    "Datos disponibles en: https://www.kaggle.com/uciml/breast-cancer-wisconsin-data\n",
    "# Variables.\n",
    "1) id: código de la paciente\n",
    "\n",
    "2) diagnosis: diagnóstico (M = maligno, B = benigno) \n",
    "\n",
    "3-32) Diez valores numéricos calculados para cada núcleo celular con valor medio (mean), valor extremo (worst) y error estándar (se):\n",
    "- radius_: distancia del centro al perímetro\n",
    "- texture_: desviación estándar de los valores de la escala de grises\n",
    "- perimeter_: perímetro\n",
    "- area_: área\n",
    "- smoothness_: variación local de las longitudes de los radios\n",
    "- compactness_: (perimeter² / area - 1.0)\n",
    "- concavity_:  gravedad (severity) de las zonas cóncavas del contorno\n",
    "- concave.points_ (number of concave portions of the contour)\n",
    "- symmetry_: simetría\n",
    "- fractal_dimension_: (“coastline approximation” - 1)\n",
    "\n",
    "33) Una columna con valores NA\n",
    "\n",
    "# Objetivo.\n",
    "El presente análisis de datos pretende observar qué variables son las más útiles para predecir si un tumor es maligno o benigno."
   ]
  },
  {
   "cell_type": "code",
   "execution_count": null,
   "metadata": {},
   "outputs": [],
   "source": [
    "# Cargamos librerías\n",
    "# Si alguna no está instalada en su equipo use este código\n",
    "# if (!require(\"ggplot2\")) install.packages(\"ggplot2\")\n",
    "library(\"ggplot2\")\n",
    "library(\"caTools\")\n",
    "library(\"corrplot\")\n",
    "library(\"dplyr\")\n",
    "library(\"reshape\")\n",
    "library(\"caret\")\n",
    "library(\"GGally\")\n",
    "library(funModeling)"
   ]
  },
  {
   "cell_type": "markdown",
   "metadata": {},
   "source": [
    "# Estadística Descriptiva\n",
    "Primer paso para hacernos una idea de los datos"
   ]
  },
  {
   "cell_type": "code",
   "execution_count": null,
   "metadata": {},
   "outputs": [],
   "source": [
    "# Cargamos los datos\n",
    "library(\"readr\")\n",
    "data <- read.csv(\"_data/data.csv\", sep=\",\")"
   ]
  },
  {
   "cell_type": "code",
   "execution_count": null,
   "metadata": {},
   "outputs": [],
   "source": [
    "# Primer vistazo a los datos\n",
    "head(data)\n",
    "glimpse(data)"
   ]
  },
  {
   "cell_type": "markdown",
   "metadata": {},
   "source": [
    "Tenemos. datos de 569 pacientes con 33 variables para cada paciente descritas anteriormente. Recordar que las 10 variables numéricas se obtienen para la media (mean), el valor extremo (worst) y el error estándar (se)."
   ]
  },
  {
   "cell_type": "code",
   "execution_count": null,
   "metadata": {},
   "outputs": [],
   "source": [
    "# Estructura de los datos\n",
    "str(data)"
   ]
  },
  {
   "cell_type": "code",
   "execution_count": null,
   "metadata": {},
   "outputs": [],
   "source": [
    "# Dimensión del conjunto de datos\n",
    "dim(data)"
   ]
  },
  {
   "cell_type": "code",
   "execution_count": null,
   "metadata": {},
   "outputs": [],
   "source": [
    "# Resumen del conjunto de datos\n",
    "summary(data)"
   ]
  },
  {
   "cell_type": "markdown",
   "metadata": {},
   "source": [
    "# Procesado de datos\n",
    "Los datos en crudo los tenemos almacenados con el nombre `data`. Vamos a realizar un procesado de datos almacenando lo obtenido con el nombre `data2`."
   ]
  },
  {
   "cell_type": "code",
   "execution_count": null,
   "metadata": {},
   "outputs": [],
   "source": [
    "# La primera columna id no nos interesa por lo que la borramos y vemos\n",
    "# el encabezado y los primeros registros y la dimensión (filas y columnas).\n",
    "\n",
    "data2 <- data[,-c(0:1)]\n",
    "head(data2)\n",
    "dim(data2)"
   ]
  },
  {
   "cell_type": "code",
   "execution_count": null,
   "metadata": {},
   "outputs": [],
   "source": [
    "# La última columna X tampoco nos es útil La eliminamos\n",
    "data2 <- data2[,-32]\n",
    "head(data2)\n",
    "dim(data2)"
   ]
  },
  {
   "cell_type": "code",
   "execution_count": null,
   "metadata": {},
   "outputs": [],
   "source": [
    "# Arreglamos los datos para tener variables numéricas expecto la variable\n",
    "# diagnosis que nos interesa como factor\n",
    "data2$diagnosis <- as.factor(data2$diagnosis)\n",
    "str(data2)"
   ]
  },
  {
   "cell_type": "code",
   "execution_count": null,
   "metadata": {},
   "outputs": [],
   "source": [
    "# Ahora buscamos valores no válidos (NA, ?, etc.)\n",
    "sapply(data2, function(x) sum(is.na(x)))"
   ]
  },
  {
   "cell_type": "markdown",
   "metadata": {},
   "source": [
    "Vemos que no hay datos NA en todas las variables \n",
    "De este modo, en `data2` tenemos alamacenados\n",
    "\n",
    "- 569 registros, cada uno con 31 variables.\n",
    "- Diagnosis es una variable categórica (B = benigno, M = maligno)\n",
    "- Todos los valores numéricos tienen 4 decimales\n",
    "- Ausencia de NA\n",
    "\n",
    "Una de las razones principales de hacer un análisis exploratorio de los datos es visualizar qué variables son las más significativas para predecir el cáncer de mama de cara a crear un modelo."
   ]
  },
  {
   "cell_type": "code",
   "execution_count": null,
   "metadata": {},
   "outputs": [],
   "source": [
    "# Análisis de datos: Número de pacientes afectadas. \n",
    "# Estadio Benigno y Maligno\n",
    "data2 %>% count(diagnosis)"
   ]
  },
  {
   "cell_type": "markdown",
   "metadata": {},
   "source": [
    "# Visualización de datos"
   ]
  },
  {
   "cell_type": "code",
   "execution_count": null,
   "metadata": {},
   "outputs": [],
   "source": [
    "# Visualización de datos. Porcentaje de diagnóstico de cáncer\n",
    "diagnosis.table <- table(data2$diagnosis)\n",
    "colors <- terrain.colors(2) \n",
    "# Creamos el gráfico de sectores\n",
    "diagnosis.prop.table <- prop.table(diagnosis.table)*100\n",
    "diagnosis.prop.df <- as.data.frame(diagnosis.prop.table)\n",
    "pielabels <- sprintf(\"%s - %3.1f%s\", diagnosis.prop.df[,1], diagnosis.prop.table, \"%\")\n",
    "pie(diagnosis.prop.table,\n",
    "  labels=pielabels,  \n",
    "  clockwise=TRUE,\n",
    "  col=colors,\n",
    "  border=\"gainsboro\",\n",
    "  radius=0.8,\n",
    "  cex=0.8, \n",
    "  main=\"Porcentaje de diagnóstico de cáncer\")\n",
    "legend(1, .4, legend=diagnosis.prop.df[,1], cex = 0.7, fill = colors)"
   ]
  },
  {
   "cell_type": "markdown",
   "metadata": {},
   "source": [
    "Vamos a visualizar las variables en forma de histograma discriminando malignos y benignos.\n",
    "Antes, separamos las columnas por grupos de acuerdo a los sufijos de las variables (_mean, _se y _worst) para visulizarlos por esos grupos."
   ]
  },
  {
   "cell_type": "code",
   "execution_count": null,
   "metadata": {},
   "outputs": [],
   "source": [
    "# Separamos en 3 grupos\n",
    "data2_mean <- data2[ ,c(\"diagnosis\", \"radius_mean\", \"texture_mean\",\"perimeter_mean\", \"area_mean\", \"smoothness_mean\", \"compactness_mean\", \"concavity_mean\", \"concave.points_mean\", \"symmetry_mean\", \"fractal_dimension_mean\" )]\n",
    "\n",
    "data2_se <- data2[ ,c(\"diagnosis\", \"radius_se\", \"texture_se\",\"perimeter_se\", \"area_se\", \"smoothness_se\", \"compactness_se\", \"concavity_se\", \"concave.points_se\", \"symmetry_se\", \"fractal_dimension_se\" )]\n",
    "\n",
    "data2_worst <- data2[ ,c(\"diagnosis\", \"radius_worst\", \"texture_worst\",\"perimeter_worst\", \"area_worst\", \"smoothness_worst\", \"compactness_worst\", \"concavity_worst\", \"concave.points_worst\", \"symmetry_worst\", \"fractal_dimension_worst\" )]\n"
   ]
  },
  {
   "cell_type": "code",
   "execution_count": null,
   "metadata": {},
   "outputs": [],
   "source": [
    "# Obtenemos los histogramas del grupo \"_mean\" separados por diagnóstico\n",
    "ggplot(data = melt(data2_mean, id.var = \"diagnosis\"), mapping = aes(x = value)) + \n",
    "  geom_histogram(bins = 10, aes(fill=diagnosis), alpha=0.5) + facet_wrap(~variable, scales =      'free_x')\n"
   ]
  },
  {
   "cell_type": "code",
   "execution_count": null,
   "metadata": {},
   "outputs": [],
   "source": [
    "# Obtenemos los histogramas del grupo \"_se\" separados por diagnóstico\n",
    "ggplot(data = melt(data2_se, id.var = \"diagnosis\"), mapping = aes(x = value)) + \n",
    "  geom_histogram(bins = 10, aes(fill=diagnosis), alpha=0.5) + facet_wrap(~variable, scales = 'free_x')\n"
   ]
  },
  {
   "cell_type": "code",
   "execution_count": null,
   "metadata": {},
   "outputs": [],
   "source": [
    "# Obtenemos los histogramas del grupo \"_worst\" separados por diagnóstico\n",
    "ggplot(data = melt(data2_worst, id.var = \"diagnosis\"), mapping = aes(x = value)) + \n",
    "  geom_histogram(bins = 10, aes(fill=diagnosis), alpha=0.5) + facet_wrap(~variable, scales = 'free_x')\n"
   ]
  },
  {
   "cell_type": "markdown",
   "metadata": {},
   "source": [
    "A la vista de los gráficos obtenidos:\n",
    "- Vemos que la mayoría de las variables están normalmente distribuidas.\n",
    "- La comparación de las distribuciones por diagnóstico no muestra una separación perfecta en ninguna de las variables, es decir, que por sí solas no discriminan entre benigno y maligno.\n",
    "- Parece que la hay en las variables `concave.points_worst`, `concavity_worst`, `perimeter_worst`, `area_mean` y `perimeter_mean`.\n",
    "- Parece haber una superposición total en `symmetry_se` `smoothness_se`."
   ]
  },
  {
   "cell_type": "markdown",
   "metadata": {},
   "source": [
    "Vamos a visualizar con más detalle los datos correspondientes a la variable `area_mean`"
   ]
  },
  {
   "cell_type": "code",
   "execution_count": null,
   "metadata": {},
   "outputs": [],
   "source": [
    "# Diagrama de cajas y bigotes de la variable area_mean\n",
    "# separado por diagnóstico (benigno, maligno)\n",
    "ggplot(data=data2,aes(x=diagnosis,y=area_mean,fill=\"pink\"))+geom_boxplot()+ggtitle(\"area_mean Benigno Vs Maligno\")"
   ]
  },
  {
   "cell_type": "code",
   "execution_count": null,
   "metadata": {},
   "outputs": [],
   "source": [
    "# Gráficos de densidad de la variable area_mean separados por diagnóstico\n",
    "ggplot(data2,aes(x=area_mean,fill=as.factor(diagnosis)))+geom_density(alpha=0.4)+ggtitle(\" area_mean por diagnóstico\")"
   ]
  },
  {
   "cell_type": "code",
   "execution_count": null,
   "metadata": {},
   "outputs": [],
   "source": [
    "# Diagramas de violín de la variable area_mean\n",
    "ggplot(data2,aes(x=as.factor(diagnosis),y=area_mean))+geom_violin()+ggtitle(\" area_mean para benigno y maligno\")"
   ]
  },
  {
   "cell_type": "code",
   "execution_count": null,
   "metadata": {},
   "outputs": [],
   "source": [
    "# Diagramas de barras para area_mean mayor que 500\n",
    "ggplot(data2, aes(x = area_mean>500, fill = diagnosis)) +geom_bar(position = \"fill\")+ggtitle(\"area_mean TRUE > 500 \")"
   ]
  },
  {
   "cell_type": "code",
   "execution_count": null,
   "metadata": {},
   "outputs": [],
   "source": [
    "# Visualizamos la variable area_mean por valores. Recordamos que es la columna 5\n",
    "library(funModeling)\n",
    "cross_plot(data2[,c(1,5)], input=names(data2[,c(1,5)]), target=\"diagnosis\")"
   ]
  },
  {
   "cell_type": "markdown",
   "metadata": {},
   "source": [
    "A la vista de estos gráficos y de nuestros datos, vemos que la probabilidad de ser diagnosticado con un tumor maligno aumenta a medida que aumenta el área media (`area_mean`). Este resultado muestra que cuando el resultado del paciente está en el intervalo (921-1192), la probabilidad de ser diagnosticado con un tumor maligno es del 98,2%. \n",
    "\n",
    "**Ejercicio**: pruebe a cambiar valores en el código anterior (número de la columna) y visualizar los gráficos de otras variables como `concave.points_worst`(columna 29) o `symmetry_se`(columna 20)."
   ]
  },
  {
   "cell_type": "code",
   "execution_count": null,
   "metadata": {},
   "outputs": [],
   "source": []
  }
 ],
 "metadata": {
  "kernelspec": {
   "display_name": "R",
   "language": "R",
   "name": "ir"
  },
  "language_info": {
   "codemirror_mode": "r",
   "file_extension": ".r",
   "mimetype": "text/x-r-source",
   "name": "R",
   "pygments_lexer": "r",
   "version": "3.6.0"
  }
 },
 "nbformat": 4,
 "nbformat_minor": 4
}
