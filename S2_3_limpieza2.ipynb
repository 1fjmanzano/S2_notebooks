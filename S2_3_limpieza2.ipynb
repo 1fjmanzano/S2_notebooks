{
 "cells": [
  {
   "cell_type": "markdown",
   "metadata": {},
   "source": [
    "# Limpieza de datos\n",
    "\n",
    "Hemos visto cómo trabajar con datos nulos eliminándolos o imputándoles la media o mediana de la variable correspondiente. Hay ocasiones en las que estos procedimientos no son los más adecuados. En esta práctica, vamos a ver otra forma de operar con datos nulos con un ejemplo sobre cáncer de mama.\n",
    "\n",
    "Comenzamos cargando las librerías necesarias."
   ]
  },
  {
   "cell_type": "code",
   "execution_count": null,
   "metadata": {},
   "outputs": [],
   "source": [
    "# Si alguna no está instalada en su equipo use este código\n",
    "# install.packages(\"ggplot2\")\n",
    "library(readr)\n",
    "library(dplyr)\n",
    "library(knitr)\n",
    "library(cowplot)\n",
    "library(ggplot2)"
   ]
  },
  {
   "cell_type": "markdown",
   "metadata": {},
   "source": [
    "# 1. Cáncer de mama\n",
    "Cuando un patólogo examina una muestra de tejido en el diagnóstico del cáncer de mama se tienen en cuenta distintas características para evaluar la agresividad del tumor. Los datos con los que vamos a trabajar proceden de [UCI Machine Learning Repository](https://archive.ics.uci.edu/ml/datasets/breast+cancer+wisconsin+(original)). Tenemos muestras de 699 pacientes con las siguentes variables:\n",
    "\n",
    "- `SampleId`: Código que identifica cada muestra\n",
    "- `Clump_thickness`: Espesor de la masa. Se mide como un entero entre 1 – 10.\n",
    "- `Cell_Size`: Uniformidad del tamaño de la célula. Se mide como un entero entre 1 – 10.\n",
    "- `Cell_Shape`: Uniformidad de la forma de la célula. Se mide como un entero entre 1 – 10.\n",
    "- `Adhesion`: Adhesión marginal. Se mide como un entero entre 1 – 10.\n",
    "- `Epi.Cell_Size`: (Single Epithelial Cell Size) Tamaño individual de la célula, entero entre 1 – 10.\n",
    "- `Bare_Nuclei`: Núcleo, entero entre 1 – 10.\n",
    "- `Bland_Chromatin`: Cromatina Blanda. Se mide como un entero entre 1 – 10.\n",
    "- `Normal_Nucleoli`: Nucleoli normal. Se mide como un entero entre 1 – 10.\n",
    "- `Mitoses`: Mitosis. Se mide como un entero entre 1 – 10.\n",
    "- `Class`: Malignidad 2: benigno, 4: maligno\n",
    "\n",
    "El objetivo final sería predecir si un tumor es benigno o maligno, determinado por el atributo `Class`."
   ]
  },
  {
   "cell_type": "code",
   "execution_count": null,
   "metadata": {},
   "outputs": [],
   "source": [
    "# Cargamos datos directamente de la web\n",
    "url <- \"https://archive.ics.uci.edu/ml/machine-learning-databases/breast-cancer-wisconsin/breast-cancer-wisconsin.data\"\n",
    "mydata <- read.csv(file = url, header = FALSE,\n",
    "                 col.names = c(\"ID\",\"Clump_thickness\", \"Cell_Size\", \"Cell_Shape\", \"Adhesion\", \"Epi.Cell_Size\", \"Bare_Nuclei\", \"Bland_Chromatin\", \"Normal_Nucleoli\",\"Mitoses\", \"Class\"))\n",
    "\n",
    "str(mydata)"
   ]
  },
  {
   "cell_type": "markdown",
   "metadata": {},
   "source": [
    "# 1.1 Limpieza de datos\n",
    "Vamos a bucar valores valores nulos NA. Comenzamos con una visualización de datos nulos con la función vis_miss de la librería visdat."
   ]
  },
  {
   "cell_type": "code",
   "execution_count": null,
   "metadata": {},
   "outputs": [],
   "source": [
    "library(visdat)\n",
    "vis_miss(mydata)"
   ]
  },
  {
   "cell_type": "markdown",
   "metadata": {},
   "source": [
    "A la vista del resultado, parece que no hay datos nulos NA. Veamos un resumen numérico de los datos."
   ]
  },
  {
   "cell_type": "code",
   "execution_count": null,
   "metadata": {},
   "outputs": [],
   "source": [
    "# Estructura y resumen numérico de los datos\n",
    "str(mydata)\n",
    "summary(mydata) "
   ]
  },
  {
   "cell_type": "markdown",
   "metadata": {},
   "source": [
    "Observamos que para la variable `Bare_Nuclei`hay 56 valores marcados como Other. Veamos esa variable con más detalle."
   ]
  },
  {
   "cell_type": "code",
   "execution_count": null,
   "metadata": {},
   "outputs": [],
   "source": [
    "# Resumen de la variable Bare_Nuclei\n",
    "summary(mydata$Bare_Nuclei)"
   ]
  },
  {
   "cell_type": "markdown",
   "metadata": {},
   "source": [
    "Vemos que hay valores del 1 al 10 y 16 datos marcados como ?. En este caso, no son valores NA pero esos 16 datos son nulos. Veamos cómo proceder con ellos. Discriminamos los valores de la variable `Bare_Nuclei` por el diagnóstico (`Class`: 2: benigno, 4: maligno)."
   ]
  },
  {
   "cell_type": "code",
   "execution_count": null,
   "metadata": {},
   "outputs": [],
   "source": [
    "# Valores de la variable Bare_Nuclei por Class\n",
    "p <- ggplot(mydata, aes(x = Bare_Nuclei, fill = Class)) + \n",
    "  geom_bar() + facet_grid(Class~.) +\n",
    "  theme(axis.text.x = element_text(angle = 90, hjust = 1))\n",
    "p"
   ]
  },
  {
   "cell_type": "markdown",
   "metadata": {},
   "source": [
    "Vemos que los valores nulos ? no están distribuidos de la misma forma para benigno y maligno. Hay 2 valores ? para maligno y el resto (14) son para un diagnóstico benigno. De este modo, si queremos conservar esos registros, imputar la media o la mediana no parece muy conveniente. Además, vemos que el valor predominante para la variable `Bare_Nuclei`en benigno es 1 y la predominante en maligno es 10.\n",
    "\n",
    "Veamos los datos con más detalle."
   ]
  },
  {
   "cell_type": "code",
   "execution_count": null,
   "metadata": {},
   "outputs": [],
   "source": [
    "# Extraemos los registros donde Bare_Nuclei = ?\n",
    "filter(mydata, Bare_Nuclei  == \"?\")"
   ]
  },
  {
   "cell_type": "markdown",
   "metadata": {},
   "source": [
    "Vemos que hay 16 valores ? de los que\n",
    "- 14 corresponden a Class = 2 (benigno)\n",
    "- 2 corresponden a Class = 4 (maligno)\n",
    "Como vimos en la gráfica anterior, el valor predominante para la variable `Bare_Nuclei`en benigno es 1 y la predominante en maligno es 10. Procedemos a asignar esos valores (1 para benigno y 10 para maligno) a los valores ? de `Bare_Nuclei`.\n",
    "\n",
    "Por otro lado, las 9 variables descriptivas están medidas en una escala ordinal del 1 al 10. La variable `Class` debemos considerarla en una escala nominal con valores 1 para maligno y 0 para benigno."
   ]
  },
  {
   "cell_type": "code",
   "execution_count": null,
   "metadata": {},
   "outputs": [],
   "source": [
    "# Cambiamos todos los valores ? por 1 en Bare_Nuclei\n",
    "mydata$Bare_Nuclei <- factor(mydata$Bare_Nuclei,levels = c(\"?\",1,2,3,4,5,6,7,8,9,10),\n",
    "                             labels = c(1,1,2,3,4,5,6,7,8,9,10))\n",
    "# Consideramos la variable Bare_Nuclei como ordinal\n",
    "mydata$Bare_Nuclei <- as.integer(paste(mydata$Bare_Nuclei))\n",
    "\n",
    "# Cambiamos los valores de la variable Class (1 = maligno, 0 = benigno)\n",
    "mydata$Class <- factor(mydata$Class,levels = c(2,4),labels = c(0,1))\n",
    "str(mydata)\n",
    "summary(mydata)"
   ]
  },
  {
   "cell_type": "markdown",
   "metadata": {},
   "source": [
    "En este momento, todos los valores ? de `Bare_Nuclei`son 1, valor predominante para un disgnóstico de benigno. Sin embargo, hemos visto 2 pacientes (con ID 1057013 y 563649) con diagnóstico maligno. A estos 2 pacientes, los valores ? de `Bare_Nuclei` deberían ser un 10, valor predominante para maligno. "
   ]
  },
  {
   "cell_type": "code",
   "execution_count": null,
   "metadata": {},
   "outputs": [],
   "source": [
    "# Imputamos un 10 a Bare_Nuclei en 2 pacientes\n",
    "mydata$ Bare_Nuclei[mydata$ID == \"1057013\"] <- 10\n",
    "mydata$ Bare_Nuclei[mydata$ID == \"563649\"] <- 10"
   ]
  },
  {
   "cell_type": "code",
   "execution_count": null,
   "metadata": {},
   "outputs": [],
   "source": [
    "# Comprobamos\n",
    "filter(mydata, ID==\"1057013\")\n",
    "filter(mydata, ID==\"563649\")"
   ]
  },
  {
   "cell_type": "code",
   "execution_count": null,
   "metadata": {},
   "outputs": [],
   "source": []
  }
 ],
 "metadata": {
  "kernelspec": {
   "display_name": "R",
   "language": "R",
   "name": "ir"
  },
  "language_info": {
   "codemirror_mode": "r",
   "file_extension": ".r",
   "mimetype": "text/x-r-source",
   "name": "R",
   "pygments_lexer": "r",
   "version": "3.6.0"
  }
 },
 "nbformat": 4,
 "nbformat_minor": 4
}
