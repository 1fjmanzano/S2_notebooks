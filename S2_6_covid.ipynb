{
 "cells": [
  {
   "cell_type": "markdown",
   "metadata": {},
   "source": [
    "# COVID-19: Descarga, procesamiento y visualización de datos oficiales en tiempo real\n",
    "\n",
    "En esta práctica vamos a realizar un análisis de datos sobre la evolución de la pandemia y obtener representaciones gráficas de distintos aspectos.\n",
    "\n",
    "Los datos que vamos a utilizar los descargamos directamente del [repositorio en GitHub del Center for Systems Science and Engineering (CSSE) del Hospital John Hopkins](https://github.com/CSSEGISandData/COVID-19) donde, a diario, se actualizan los datos obtenidos de diversas fuentes. De este modo, al cargar los datos los vamos a tener actualizados. \n",
    "\n",
    "Recomendamos acceder al repositorio mediante el enlace y comprobar cuándo  se han actualizado los datos (carpeta [csse_covid_19_data](https://github.com/CSSEGISandData/COVID-19/tree/master/csse_covid_19_data) del repositorio). "
   ]
  },
  {
   "cell_type": "code",
   "execution_count": null,
   "metadata": {},
   "outputs": [],
   "source": [
    "# Obtenemos los datos\n",
    "confirmados <- read.csv(\"https://github.com/CSSEGISandData/COVID-19/raw/master/csse_covid_19_data/csse_covid_19_time_series/time_series_covid19_confirmed_global.csv\")\n",
    "\n",
    "recuperados <- read.csv(\"https://github.com/CSSEGISandData/COVID-19/raw/master/csse_covid_19_data/csse_covid_19_time_series/time_series_covid19_recovered_global.csv\")\n",
    "\n",
    "muertos <- read.csv(\"https://github.com/CSSEGISandData/COVID-19/raw/master/csse_covid_19_data/csse_covid_19_time_series/time_series_covid19_deaths_global.csv\")"
   ]
  },
  {
   "cell_type": "markdown",
   "metadata": {},
   "source": [
    "En los datos que acabamos de cargar tenemos\n",
    "\n",
    "- una columna con la subregión (Provincia, Estado, etc)\n",
    "- una columna con el país\n",
    "- 2 columnas con latitud y longitud del lugar representado\n",
    "- una cantidad (que se incrementa cada día) de columnas que representan fechas y contienen datos.\n",
    "\n",
    "El formato de fecha es el anglosajón: mes/día/año."
   ]
  },
  {
   "cell_type": "code",
   "execution_count": null,
   "metadata": {},
   "outputs": [],
   "source": [
    "# Dimensión y estructura de los datos en confirmados\n",
    "dim(confirmados)\n",
    "str(confirmados)"
   ]
  },
  {
   "cell_type": "markdown",
   "metadata": {},
   "source": [
    "## Preprocesado\n",
    "Es importante cambiar los datos de formato serie de tiempo (con cada fila conteniendo observaciones de todos los días) a formato “tidy” (en cada fila una observación). \n",
    "\n",
    "Además, vamos a combinar los tres datasets en un único dataframe. Esto facilitará el análisis posterior al permitir filtrar los datos con facilidad por fecha y categoría.\n",
    "\n",
    "Vamos a usar los paquetes `tidyverse` por sus funciones de transformación de datos y `lubridate` para manejar fechas. El paquete [tidyverse](https://www.tidyverse.org) contiene varias librerías para el tratamiento y análisis de datos."
   ]
  },
  {
   "cell_type": "code",
   "execution_count": null,
   "metadata": {},
   "outputs": [],
   "source": [
    "# Cargamos librerías\n",
    "library(tidyverse)\n",
    "library(lubridate)"
   ]
  },
  {
   "cell_type": "markdown",
   "metadata": {},
   "source": [
    "Con el código que viene a continuación vamos a:\n",
    "\n",
    "- Añadir a cada dataset una columna que indique lo que representa (confirmados, recuperados o muertes) y unirlos.\n",
    "- Reordenar las columnas resultantes para tener primero las variables de lugar, coordenadas y categoría y, al final, las que representan fechas\n",
    "- Reorganizar el dataframe para que las fechas ya no sean nombres de columnas sino valores de una nueva columna “Date”. \n",
    "- Agregar una columna “Value” que contenga el dats correspondiente a cada fecha\n",
    "- Limpiar el valor de las fechas, eliminando la “X” que contienen al inicio\n",
    "\n",
    "Almacenamos la información con el nombre `covid19`. En el código (mantenemos los nombres en inglés), gracias al paquete `tidyverse`, vamos añadiendo instrucciones con el operador *pipe* `%>%` que permite encadenar llamadas a funciones para así realizar de forma sencilla transformaciones de datos complejas.\n",
    "\n",
    "Con esta nueva sintaxis (usando el operador pipe) ya no necesitamos anidar funciones, sino que las instrucciones van una después de otra. Es mucho más fácil de leer y de escribir."
   ]
  },
  {
   "cell_type": "code",
   "execution_count": null,
   "metadata": {},
   "outputs": [],
   "source": [
    "covid19 <- mutate(confirmados, Category = \"Confirmed\") %>% \n",
    "    bind_rows(mutate(recuperados, Category = \"Recovered\")) %>% \n",
    "    bind_rows(mutate(muertos, Category = \"Deaths\")) %>% \n",
    "    select(Province.State:Long, Category, everything()) %>% \n",
    "    pivot_longer(-(Province.State:Category), names_to = \"Date\", values_to = \"Value\") %>% \n",
    "    mutate(Date = mdy(str_remove(Date, \"X\")))"
   ]
  },
  {
   "cell_type": "code",
   "execution_count": null,
   "metadata": {},
   "outputs": [],
   "source": [
    "# Vemos las primeras y últimas filas\n",
    "head(covid19)\n",
    "tail(covid19)"
   ]
  },
  {
   "cell_type": "markdown",
   "metadata": {},
   "source": [
    "Tenemos entonces los datos en 7 columnas. En cada fila tenemos el dato `Value`  por fecha `Date` y categoría `Category` (confirmados, recuperados, muertos) para cada país `Country.Region`. Tenemos los datos geográficos (latitud `Lat` y longitud `Long` del país y, si procede, de la región/provincia/estado `Province.State` (Comunidad Autónoma en el caso de España).\n",
    "\n",
    "Vemos ahora los valores NA presentes en nuestros datos."
   ]
  },
  {
   "cell_type": "code",
   "execution_count": null,
   "metadata": {},
   "outputs": [],
   "source": [
    "# Contamos valores NA en covid19\n",
    "sum(is.na(covid19))"
   ]
  },
  {
   "cell_type": "markdown",
   "metadata": {},
   "source": [
    "Puede ocurrir (y ocurre) que haya datos no actualizados o no disponibles por lo que nos aparecen valores nulos. Procedemos a eliminar los valores nulos ya que, en este caso, no parece conveniente realizar imputaciones (media, mediana, etc.)."
   ]
  },
  {
   "cell_type": "code",
   "execution_count": null,
   "metadata": {},
   "outputs": [],
   "source": [
    "# Eliminamos valores nulos NA\n",
    "covid19 <- covid19 %>% filter(!is.na(Value))"
   ]
  },
  {
   "cell_type": "markdown",
   "metadata": {},
   "source": [
    "De este modo, podemos obtener los datos de una fecha concreta."
   ]
  },
  {
   "cell_type": "code",
   "execution_count": null,
   "metadata": {},
   "outputs": [],
   "source": [
    "# Datos a 10 de abril de 2021\n",
    "covid19 %>% filter(Date == ymd(\"2020 04 10\")) %>% head"
   ]
  },
  {
   "cell_type": "code",
   "execution_count": null,
   "metadata": {},
   "outputs": [],
   "source": [
    "# Datos a última fecha disponible\n",
    "covid19 %>%  filter(Date == max(Date)) %>% head"
   ]
  },
  {
   "cell_type": "markdown",
   "metadata": {},
   "source": [
    "De este modo, con el código en R aplicado anteriormente, puede tener en su ordenador los **datos en tiempo real** del CSSE del Hospital John Hopkins."
   ]
  },
  {
   "cell_type": "markdown",
   "metadata": {},
   "source": [
    "### Evolución en el tiempo\n",
    "\n",
    "Procedemos a visualizar la evolución de casos confirmados en España."
   ]
  },
  {
   "cell_type": "code",
   "execution_count": null,
   "metadata": {},
   "outputs": [],
   "source": [
    "# Evolución contagios España.\n",
    "covid19  %>% \n",
    "  filter(Country.Region == 'Spain') %>% filter(Category == \"Confirmed\") %>%\n",
    "  \n",
    "  #Gráfico\n",
    "  ggplot(aes(x= Date, y = Value, group = 1)) +\n",
    " geom_line(color=\"black\")"
   ]
  },
  {
   "cell_type": "markdown",
   "metadata": {},
   "source": [
    "Vemos una curva ascendente (excepto en un tramo correspondiente a febrero-marzo de 2021 del que hablaremos posteriormente) lo que indica que el número de casos confirmados es acumulado y no se proporcionan los casos diarios. Lo mismo ocurre con el número de recuperados y de muertos.\n",
    "\n",
    "Podemos representar gráficamente esos 3 factores y compararlos por países. El siguiente código representa los gráficos correspondientes a España, Israel, Alemania y China."
   ]
  },
  {
   "cell_type": "code",
   "execution_count": null,
   "metadata": {},
   "outputs": [],
   "source": [
    "paises_a_comparar <- c(\"Spain\", \"Israel\", \"Germany\", \"India\")\n",
    "\n",
    "covid19 %>% \n",
    "    filter(Country.Region %in% paises_a_comparar) %>% \n",
    "    group_by(Category, Date, Country.Region) %>% \n",
    "    ggplot() +\n",
    "    geom_col(aes(x = Date, y = Value, fill = Category)) +\n",
    "    facet_wrap(~Country.Region, scales = \"free\") +\n",
    "    scale_fill_brewer(palette = \"Set2\") +\n",
    "    labs(title = \"COVID19: cantidad de casos\", \n",
    "         fill = \"Situación\",\n",
    "         caption = \"Fuente: 2019 Novel Coronavirus COVID-19 Data Repository by Johns Hopkins CSSE\",\n",
    "         y = NULL, x = NULL) +\n",
    "    theme_minimal()"
   ]
  },
  {
   "cell_type": "markdown",
   "metadata": {},
   "source": [
    "Vemos en una sola gráfica (una por país) los datos correspondientes a los 3 factores (confirmados, recuperados y muertos) de la variable `Category`.\n",
    "\n",
    "**Ejercicio**: pruebe a cambiar los nombres de los países (en inglés) en el siguiente código y comparar los gráficos. Puede incluso incluir algún país más de los 4 presentes en el vector `paises_a_comparar` (no olvide la coma y las comillas)."
   ]
  },
  {
   "cell_type": "code",
   "execution_count": null,
   "metadata": {},
   "outputs": [],
   "source": [
    "# Gráficos de otros países\n",
    "paises_a_comparar2 <- c(\"Spain\", \"Israel\", \"Germany\", \"India\")\n",
    "\n",
    "covid19 %>% \n",
    "    filter(Country.Region %in% paises_a_comparar2) %>% \n",
    "    group_by(Category, Date, Country.Region) %>% \n",
    "\n",
    "    ggplot() +\n",
    "    geom_col(aes(x = Date, y = Value, fill = Category)) +\n",
    "    facet_wrap(~Country.Region, scales = \"free\") +\n",
    "    scale_fill_brewer(palette = \"Set2\") +\n",
    "    labs(title = \"COVID19: cantidad de casos\", \n",
    "         fill = \"Situación\",\n",
    "         caption = \"Fuente: 2019 Novel Coronavirus COVID-19 Data Repository by Johns Hopkins CSSE\",\n",
    "         y = NULL, x = NULL) +\n",
    "    theme_minimal()"
   ]
  },
  {
   "cell_type": "markdown",
   "metadata": {},
   "source": [
    "#### Comparación de casos confirmados en la misma escala\n",
    "En las gráficas anteriores vemos que la escala de eje vertical difiere por países. Podemos representar los datos en un mismo gráfico."
   ]
  },
  {
   "cell_type": "code",
   "execution_count": null,
   "metadata": {},
   "outputs": [],
   "source": [
    "covid19 %>% \n",
    "    filter(Country.Region %in% paises_a_comparar, Category == \"Confirmed\") %>% \n",
    "    group_by(Date, Country.Region) %>% \n",
    " summarise(Value = sum(Value)) %>% \n",
    "    ggplot() +\n",
    "    geom_path(aes(x = Date, y = Value, color = Country.Region)) +\n",
    "    labs(title = \"COVID19: Infecciones confirmadas\", \n",
    "         color = \"\",\n",
    "         x = NULL, y = NULL,\n",
    "         caption = \"fuente: 2019 Novel Coronavirus COVID-19 Data Repository by Johns Hopkins CSSE\") +\n",
    "    theme_minimal()"
   ]
  },
  {
   "cell_type": "markdown",
   "metadata": {},
   "source": [
    "Otra forma de unificar los valores de eje es utilizar una escala logarítmica."
   ]
  },
  {
   "cell_type": "code",
   "execution_count": null,
   "metadata": {},
   "outputs": [],
   "source": [
    "covid19 %>% \n",
    "    filter(Country.Region %in% paises_a_comparar, Category == \"Confirmed\") %>% \n",
    "    group_by(Date, Country.Region) %>% \n",
    " summarise(Value = sum(Value)) %>% \n",
    "    ggplot() +\n",
    "    geom_path(aes(x = Date, y = Value, color = Country.Region)) +\n",
    "    scale_y_log10() +\n",
    "    labs(title = \"COVID19: Infecciones confirmadas\", \n",
    "         color = \"\",\n",
    "         x = NULL, y = NULL,\n",
    "         caption = \"fuente: 2019 Novel Coronavirus COVID-19 Data Repository by Johns Hopkins CSSE\") +\n",
    "    theme_minimal()"
   ]
  },
  {
   "cell_type": "markdown",
   "metadata": {},
   "source": [
    "## ¿Errores en los datos de España?\n",
    "Hemos visto en un gráfico anterior que el número de casos acumulados en España disminuía sobre una fecha de febrero/marzo de 2021. En las siguientes imágenes obtenidas a mediados de abril de 2021 de la web con los datos del John Hopkins vemos el mismo decrecimiento (al a derecha marcado con una flecha roja) en los casos acumulados en España sobre la fecha febrero/marzo de 2021.\n",
    "\n",
    "<img src=\"_img/spain_data.png\">\n",
    "\n",
    "Fuente: [COVID-19 Dashboard](https://www.arcgis.com/apps/opsdashboard/index.html#/bda7594740fd40299423467b48e9ecf6)\n",
    "\n",
    "Vamos a volver cargar desde el repositorio los datos acumulados de casos confirmados, almacenarlos con el nombre `spain`, filtar los datos de España, añadir la variable `incident_cases` con los casos diarios (restando a dato acumulado el anterior) y ver los datos correspondientes a los días 1, 2 y 3 de marzo de 2021."
   ]
  },
  {
   "cell_type": "code",
   "execution_count": null,
   "metadata": {},
   "outputs": [],
   "source": [
    "# Seleccionamos los datos de casos confirmados de España\n",
    "#URL de los datos (github de la JHU)\n",
    "jhu_url <- paste(\"https://raw.githubusercontent.com/CSSEGISandData/\", \n",
    "                 \"COVID-19/master/csse_covid_19_data/\", \"csse_covid_19_time_series/\", \n",
    "                 \"time_series_covid19_confirmed_global.csv\", sep = \"\")\n",
    "\n",
    "#Leemos los datos directamente de la fuente para tenerlos al dia\n",
    "\n",
    "# Cambiamos nombres de columnas\n",
    "spain <- read_csv(jhu_url) %>% \n",
    "  dplyr::rename(\"province\" = \"Province/State\",\n",
    "         \"country_region\" = \"Country/Region\") %>%\n",
    " \n",
    "#Transformamos datos de \"time series\" a año-mes-día\n",
    "  pivot_longer(-c(province,\n",
    "                  country_region, \n",
    "                  Lat, \n",
    "                  Long), \n",
    "               names_to = \"Date\", \n",
    "               values_to = \"cumulative_cases\") %>% \n",
    "  \n",
    "# Ajustamos el formato de fechas\n",
    "  mutate(Date = mdy(Date)) %>% \n",
    "  \n",
    "# Filtramos los datos de España (funciona para cualquier otro país).\n",
    "  filter(country_region ==\"Spain\") %>% \n",
    "  arrange(country_region, Date) %>% \n",
    "  group_by(country_region) %>% \n",
    "\n",
    "#Calculamos los casos diarios a partir de los datos acumulados\n",
    " \n",
    "mutate(incident_cases = c(0, \n",
    "                            diff(cumulative_cases))) %>% \n",
    "  ungroup() %>% \n",
    "  \n",
    "# Quitamos los datos de provincia, latitud y longitud.\n",
    "# Estos son utiles si quieres hacer mapas,\n",
    "\n",
    "  select(-c(province, Lat, Long))\n",
    "\n",
    "# Y así quedan\n",
    "tail(spain)"
   ]
  },
  {
   "cell_type": "code",
   "execution_count": null,
   "metadata": {},
   "outputs": [],
   "source": [
    "# Representamos gráficamente los casos diarios (incident_cases)\n",
    "spain %>%\n",
    "  ggplot(aes(x= Date, y = incident_cases, group = 1)) +\n",
    " geom_line(color=\"black\")"
   ]
  },
  {
   "cell_type": "code",
   "execution_count": null,
   "metadata": {},
   "outputs": [],
   "source": [
    "# Datos de los días 1, 2 y 3 de marzo de 2021.  \n",
    "spain %>% filter(Date == '2021-03-01')\n",
    "spain %>% filter(Date == '2021-03-02')\n",
    "spain %>% filter(Date == '2021-03-03')"
   ]
  },
  {
   "cell_type": "markdown",
   "metadata": {},
   "source": [
    "Efectivamente, comprobamos que el día 2 de marzo de 2021 se notificaron 74347 casos menos. Sin entrar en otras disquisicioes, insistimos en la importancia de trabajar con datos fiables para obtener buenas conclusiones.\n",
    "\n",
    "**Ejercicio**: utilice el siguiente bloque de código para obtener una gráfica con el número de fallecidos por covid en España. Almacene los datos en `spain2`. Puede copiar el código anterior y cambiar lo que corresponda para obtener y trabajar con los datos de fallecidos. Observe el resultado y obtenga sus propias conclusiones."
   ]
  },
  {
   "cell_type": "code",
   "execution_count": null,
   "metadata": {},
   "outputs": [],
   "source": []
  },
  {
   "cell_type": "markdown",
   "metadata": {},
   "source": [
    "<details>    \n",
    "<summary>\n",
    "    <font size=\"3\" color=\"black\"><b>Solución</b></font>\n",
    "</summary>\n",
    "<p>\n",
    "<ul>\n",
    "\n",
    "jhu_url2 <- paste(\"https://raw.githubusercontent.com/CSSEGISandData/\", \n",
    "                 \"COVID-19/master/csse_covid_19_data/\", \"csse_covid_19_time_series/\", \n",
    "                 \"time_series_covid19_deaths_global.csv\", sep = \"\")\n",
    "\n",
    "spain2 <- read_csv(jhu_url2) %>% \n",
    "  dplyr::rename(\"province\" = \"Province/State\",\n",
    "         \"country_region\" = \"Country/Region\") %>%\n",
    "\n",
    "pivot_longer(-c(province,\n",
    "                  country_region, \n",
    "                  Lat, \n",
    "                  Long), \n",
    "               names_to = \"Date\", \n",
    "               values_to = \"cumulative_deaths\") %>% \n",
    "  \n",
    "\n",
    "mutate(Date = mdy(Date)) %>% \n",
    "  \n",
    "\n",
    "filter(country_region ==\"Spain\") %>% \n",
    "arrange(country_region, Date) %>% \n",
    "group_by(country_region) %>% \n",
    "\n",
    " \n",
    "mutate(incident_deaths = c(0, \n",
    "                            diff(cumulative_deaths))) %>% \n",
    "  ungroup() %>% \n",
    "  \n",
    "\n",
    "  select(-c(province, Lat, Long))\n",
    "    \n",
    "spain2 %>%\n",
    "  ggplot(aes(x= Date, y = incident_deaths, group = 1)) +\n",
    " geom_line(color=\"black\")\n",
    "</ul>\n",
    "</p>"
   ]
  },
  {
   "cell_type": "markdown",
   "metadata": {},
   "source": [
    "## Incidencia acumulada. Medias móviles\n",
    "Un dato que se está utilizando con frecuencia es el número de casos acumulados los últimos 7 o 14 días por 100000 habitantes.\n",
    "\n",
    "Para calcular las medias móviles utilizamos la librería `RcppRoll`. La sintaxis para dicho cálculo em muy sencilla con la función `roll_mean`. Añadimos el el datafram `spain` como columnas a la derecha las medias móviles obtenidas."
   ]
  },
  {
   "cell_type": "code",
   "execution_count": null,
   "metadata": {},
   "outputs": [],
   "source": [
    "# Calculamos las medias móviles a 7 y 14 días\n",
    "require(RcppRoll)\n",
    "\n",
    "spain$mm7 <- roll_mean(spain$incident_cases, n = 7, align = \"right\", fill = NA)\n",
    "spain$mm14 <- roll_mean(spain$incident_cases, n = 14, align = \"right\", fill = NA)\n",
    "tail(spain)"
   ]
  },
  {
   "cell_type": "code",
   "execution_count": null,
   "metadata": {},
   "outputs": [],
   "source": [
    "# Gráfica de la media móvil a 14 días\n",
    "# Evidentemente, aparecen 13 errores\n",
    "spain %>%\n",
    "  ggplot(aes(x= Date, y = mm14, group = 1)) +\n",
    " geom_line(color=\"black\") +\n",
    "labs(title = \"Medias móviles a 14 días (España)\", \n",
    "         caption = \"Fuente: 2019 Novel Coronavirus COVID-19 Data Repository by Johns Hopkins CSSE\",\n",
    "         y = NULL, x = NULL) +\n",
    "    theme_minimal()"
   ]
  },
  {
   "cell_type": "code",
   "execution_count": null,
   "metadata": {},
   "outputs": [],
   "source": []
  }
 ],
 "metadata": {
  "kernelspec": {
   "display_name": "R",
   "language": "R",
   "name": "ir"
  },
  "language_info": {
   "codemirror_mode": "r",
   "file_extension": ".r",
   "mimetype": "text/x-r-source",
   "name": "R",
   "pygments_lexer": "r",
   "version": "3.6.0"
  }
 },
 "nbformat": 4,
 "nbformat_minor": 4
}
