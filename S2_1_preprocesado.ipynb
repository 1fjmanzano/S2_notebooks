{
 "cells": [
  {
   "cell_type": "markdown",
   "metadata": {},
   "source": [
    "# Preprocesado de datos\n",
    "Hata ahora hemos trabajado con conjuntos de datos ordenados (*tidy data*) pero no suele ser lo habitual. Antes de emplear cualquier tipo de análisis estadístico de los datos, es necesario que se cumpla que:\n",
    "- Cada variable está en una columna\n",
    "- Cada registro está en una única fila\n",
    "- Todos los valores están en una única celda\n",
    "\n",
    "Es decir, necesitamos *Tidy Data* según Hadley Wickham (https://vita.had.co.nz/papers/tidy-data.pdf)\n",
    "\n",
    "El objetivo de esta práctica es aprender a unir varios conjuntos de datos y realizar un reconocimiento de los mismos en busca de valores nulos (*NA*) y valores atípicos (outliers) y ver cómo solucionar distintos tipos de problemas asociados a la estructura del conjunto de datos.\n",
    "\n",
    "Para realizar la práctica, vamos a importar datos sobre el número de suicidios y el grado de desorden mental por  países en un periodo de tiempo. Para ello, se han tomado datos de 3 variables:\n",
    " - “suicide_death_rates”\n",
    " - “mental_health_disorders”\n",
    " - “population” \n",
    " \n",
    "por países entre los años 1990 y 2017 de la web https://ourworldindata.org.\n",
    "\n",
    "Vamos a comenzar juntando los conjuntos de datos **Suicide death rates** y **Mental health disorders** teniendo en cuenta que la variable `mental_health_disorders` no tiene datos del año 2017.\n",
    "En base a las variables `country_name`, `country_code` y `year` juntaremos los 2 conjuntos de datos en un dataframe llamado **joined_rates_data**. Posteriormente, añadiremos (a la izquierda) los datos de población basados en las variables comunes `country_name`, `country_code` y `year` como antes.\n",
    "El dataframe final **joined_rates_data** va a contener las variables \n",
    "- `country_name`: nombre del país\n",
    "- `country_code`: acrónimo del nombre del país\n",
    "- `year`: año del dato\n",
    "- `suicide_rate` : muertes por suicidio por cada 100000 habitantes \n",
    "- `mental_disorder_count`: número de personas con desórdenes mentales \n",
    "- `population_count`: número de habitantes de un país un año determinado\n",
    "\n",
    "Para una mejor comprensión de los datos, calcularemos los valores medios de las variables `suicide_death_rates` y `Mental disorder rate` así como la proporción de suicidios por desorden mental.\n",
    "\n",
    "Para visualizar las distribuciones de ratio de suicidios y porcentajes, representaremos histogramas encontrando asimetría a la derecha. Haremos una transformación de las variables mediante transformación de raíz cuadrada.\n",
    "\n",
    "Finalmente, realizaremos un contraste de hipótesis (t-test) para estudiar la relación entre proporción de suicidios y desórdenes mentales y concluiremos que, efectivamente, hay una relación estadísticamente significativa (confianza del 95%) de que están relacionadas. "
   ]
  },
  {
   "cell_type": "code",
   "execution_count": null,
   "metadata": {},
   "outputs": [],
   "source": [
    "# Librerías\n",
    "# Si alguna no está instalada en su equipo use este código\n",
    "# install.packages(\"nombre de la librería\")\n",
    "library(readr) # importar datos\n",
    "library(dplyr) # manipulación de datos\n",
    "library(tidyr) # limpiar datos\n",
    "library(outliers) # para datos atípicos"
   ]
  },
  {
   "cell_type": "markdown",
   "metadata": {},
   "source": [
    "# Datos\n",
    "Procedemos a importar los datos para cada variable (pestaña Download) de:\n",
    "\n",
    "- Suicide death rates dataset: https://ourworldindata.org/grapher/suicide-death-rates\n",
    "- Mental health disorders dataset: https://ourworldindata.org/grapher/people-with-mental-health-disorders\n",
    "- Population dataset: https://ourworldindata.org/grapher/population\n",
    "\n",
    "Las comentamos brevemente:\n",
    "- **Suicide death rates dataset** tiene 6468 registros con 4 variables:`country name`,`country code`,`year` y `suicide death rates`. La columna de `suicide death rates` representa el número de muertes por suicidio por cada 100000 habitantes. Hay datos desde 1990 a 2017.\n",
    "\n",
    "- **Mental health disorders dataset** tiene 6156 registros con 4 variables:`country name`,`country code`,`year` y `mental disorder count`. Esta última variable contiene el número de personas con problemas y desórdenes mentales (sin incluir problemas de drogas o alcohol) de 1990 a 2016.\n",
    "\n",
    "- **Population dataset** contiene 46883 registros con 4 variables: `country name`, `country code`, `year` y `population count` desde 1800 a 2019."
   ]
  },
  {
   "cell_type": "code",
   "execution_count": null,
   "metadata": {},
   "outputs": [],
   "source": [
    "# Importamos y vemos los primeros datos de suicide_death_rates dataset\n",
    "suicide_death_rates <-read.csv(\"_data/suicide-death-rates.csv\",header = TRUE, \n",
    "                    stringsAsFactors = FALSE,\n",
    "                    col.names = c(\"country_name\",\"country_code\",\"year\",\"suicide_rate\"))\n",
    "head(suicide_death_rates)"
   ]
  },
  {
   "cell_type": "code",
   "execution_count": null,
   "metadata": {},
   "outputs": [],
   "source": [
    "# Importamos y vemos los primeros datos de mental_health_disorders dataset\n",
    "mental_health_disorders <-read.csv(\"_data/people-with-mental-health-disorders.csv\", header = TRUE,\n",
    "                                   stringsAsFactors = FALSE,\n",
    "                    col.names = c(\"country_name\",\"country_code\",\"year\",\"mental_disorder_count\") )\n",
    "head(mental_health_disorders)"
   ]
  },
  {
   "cell_type": "code",
   "execution_count": null,
   "metadata": {},
   "outputs": [],
   "source": [
    "# Importamos y vemos los primeros datos de mental_health_disorders dataset\n",
    "population <-read.csv(\"_data/population.csv\",  header = TRUE,\n",
    "                      stringsAsFactors = FALSE,\n",
    "                   col.names = c(\"country_name\",\"country_code\",\"year\",\"population_count\") )\n",
    "head(population)"
   ]
  },
  {
   "cell_type": "markdown",
   "metadata": {},
   "source": [
    "Procedemos a unir los conjuntos de datos **Suicide death rates** y **Mental health disorders**.\n",
    "En base a las variables `country_name`, `country_code` y `year` unimos los 2 conjuntos de datos en un dataframe llamado **joined_rates_data**. Posteriormente, añadimos (a la izquierda) los datos de población basados en las variables comunes `country_name`, `country_code` y `year` como antes.\n",
    "El dataframe final **joined_data** contiene las variables \n",
    "- `country_name`: nombre del país\n",
    "- `country_code`: acrónimo del nombre del país\n",
    "- `year`: año del dato\n",
    "- `suicide_rate` : muertes por suicidio por cada 100000 habitantes \n",
    "- `mental_disorder_count`: número de personas con desórdenes mentales \n",
    "- `population_count`: número de habitantes de un país un año determinado"
   ]
  },
  {
   "cell_type": "code",
   "execution_count": null,
   "metadata": {},
   "outputs": [],
   "source": [
    "# Unimos (por la derecha) los datos de suicide_death_rates y mental_health_disorders\n",
    "# y los almacenamos en joined_rates_data\n",
    "joined_data <- right_join(suicide_death_rates, mental_health_disorders,\n",
    "                                by = c('country_name','country_code','year'))\n",
    "head(joined_data)"
   ]
  },
  {
   "cell_type": "code",
   "execution_count": null,
   "metadata": {},
   "outputs": [],
   "source": [
    "# Ahora añadimos a joined_rates_data los datos de population (por la izquierda) \n",
    "# para que queden a la derecha (última columna)\n",
    "joined_data <- left_join(joined_data, population,\n",
    "                               by= c('country_name','country_code','year'))\n",
    "head(joined_data)"
   ]
  },
  {
   "cell_type": "code",
   "execution_count": null,
   "metadata": {},
   "outputs": [],
   "source": [
    "# Estructura de los datos\n",
    "str(joined_data)"
   ]
  },
  {
   "cell_type": "markdown",
   "metadata": {},
   "source": [
    "# Datos nulos (NA)\n",
    "Una vez obtenido el conjunto de datos, comprobamos la existencia de datos nulos. Posteriormente, si no es un número muy elevado, procederemos a eliminarlos."
   ]
  },
  {
   "cell_type": "code",
   "execution_count": null,
   "metadata": {},
   "outputs": [],
   "source": [
    "# Análisis de datos. Buscando datos nulos NA's\n",
    "table(is.na(joined_data))"
   ]
  },
  {
   "cell_type": "markdown",
   "metadata": {},
   "source": [
    "Vemos que hay 36126 datos válidos y 810 datos nulos lo que supone un 2.2% de datos nulos respecto al total de datos."
   ]
  },
  {
   "cell_type": "code",
   "execution_count": null,
   "metadata": {},
   "outputs": [],
   "source": [
    "# porcentaje de datos nulos respecto al total\n",
    " 810/(36126 + 810)*100"
   ]
  },
  {
   "cell_type": "code",
   "execution_count": null,
   "metadata": {},
   "outputs": [],
   "source": [
    "# Vemos en qué variable hay datos nulos. \n",
    "sapply(joined_data, function(x) sum(is.na(x)))"
   ]
  },
  {
   "cell_type": "markdown",
   "metadata": {},
   "source": [
    "Acabamos de comprobar que aproximadamente un 2% de los datos son NA todos en la variable `population_count`. Una opción es asignar a los valores NA la media o la mediana de los datos de la variable (columna) correspondiente pero, en este caso, no tendría sentido al tratarse de la población por países. Procedemos a eliminarlos con la función `drop_na` almacenando el resultado obtenido en **joined_data_nona**"
   ]
  },
  {
   "cell_type": "code",
   "execution_count": null,
   "metadata": {},
   "outputs": [],
   "source": [
    "# Porcentaje bajo. Eliminamos las filas con algun NA con la función drop_na \n",
    "# del paquete tidyr. Almacenamos en joined_data_nona\n",
    "\n",
    "joined_data_nona <- drop_na(joined_data)"
   ]
  },
  {
   "cell_type": "code",
   "execution_count": null,
   "metadata": {},
   "outputs": [],
   "source": [
    "# Análisis de datos. Buscando datos nulos NA's\n",
    "table(is.na(joined_data_nona))"
   ]
  },
  {
   "cell_type": "code",
   "execution_count": null,
   "metadata": {},
   "outputs": [],
   "source": [
    "# Resumen de las variables\n",
    "summary(joined_data_nona)"
   ]
  },
  {
   "cell_type": "markdown",
   "metadata": {},
   "source": [
    "# Tipos de variables\n",
    "Con la función str (structure) veamos qué tipo de variables tenemos."
   ]
  },
  {
   "cell_type": "code",
   "execution_count": null,
   "metadata": {},
   "outputs": [],
   "source": [
    "# Estructura de los datos\n",
    "str(joined_data_nona)"
   ]
  },
  {
   "cell_type": "markdown",
   "metadata": {},
   "source": [
    "- las variables `country_name`y `country_code`son caracteres. Estas variables se podrían conventir en factores ya que hay número determinado (195) de países posibles mediante la función as.factor().\n",
    "- La variable `year` se puede dejar como número entero (sin decimales) ya que no precisamos de fechas concretas.\n",
    "- - La variable `suicide_rate` se puede dejar como número con decimales.\n",
    "- Las variables `mental_disorder_count` y `population_count` aparecen como num (en principio con decimales) aunque son números enteros.\n",
    "\n",
    "Vamos a añadir texto a los resultados con el comando `cat()`."
   ]
  },
  {
   "cell_type": "code",
   "execution_count": null,
   "metadata": {},
   "outputs": [],
   "source": [
    "# Vemos el tipo de variable\n",
    "cat(\"La variable country_name es de tipo:\")\n",
    "class(joined_data_nona$country_name)\n",
    "cat(\"La variable country_code es de tipo:\")\n",
    "class(joined_data_nona$country_code)\n",
    "cat(\"La variable year es de tipo:\")\n",
    "class(joined_data_nona$year)\n",
    "cat(\"La variable suicide_rate es de tipo:\")\n",
    "class(joined_data_nona$suicide_rate)\n",
    "cat(\"La variable mental_disorder_count es de tipo:\")\n",
    "class(joined_data_nona$mental_disorder_count)\n",
    "cat(\"La variable population_count es de tipo:\")\n",
    "class(joined_data_nona$population_count)"
   ]
  },
  {
   "cell_type": "markdown",
   "metadata": {},
   "source": [
    "# Preprocesado de datos 1\n",
    "Una vez eliminados los valores nulos, en este momento nuestros datos cumplen que:\n",
    "- Cada variable está en una columna\n",
    "- Cada registro está en una única fila\n",
    "- Todos los valores están en una única celda\n",
    "\n",
    "Continuamos eliminando la variable `country_code`al ser redundante y darnos la misma información que la variable `country_name`que conservamos."
   ]
  },
  {
   "cell_type": "code",
   "execution_count": null,
   "metadata": {},
   "outputs": [],
   "source": [
    "# Eliminamos la columna county_code\n",
    "joined_data_nona <- subset(joined_data_nona, \n",
    "                     select= c('country_name','year',\n",
    "                               'suicide_rate','mental_disorder_count',\n",
    "                               'population_count'))\n",
    "head(joined_data_nona)"
   ]
  },
  {
   "cell_type": "markdown",
   "metadata": {},
   "source": [
    "# Preprocesado de datos 2\n",
    "Para calcular la proporción de personas con desórdenes mentales por cada 100000 habitantes, dividimos el número (mental_disorder_count) entre la población (population_count) y lo multiplicamos por 100000. Lo almacenamos en la variable `mental_health_disorders_rate` usando la función `mutate`."
   ]
  },
  {
   "cell_type": "code",
   "execution_count": null,
   "metadata": {},
   "outputs": [],
   "source": [
    "# Incluimos la variable mental_health_disorders_rate\n",
    "joined_data_nona <- mutate(joined_data_nona,\n",
    "                            mental_health_disorders_rate =((mental_disorder_count/population_count)*100000))\n",
    "\n",
    "head(joined_data_nona)"
   ]
  },
  {
   "cell_type": "code",
   "execution_count": null,
   "metadata": {},
   "outputs": [],
   "source": [
    "summary(joined_data_nona)"
   ]
  },
  {
   "cell_type": "markdown",
   "metadata": {},
   "source": [
    "# Análisis de datos 1. Valores atípicos (outliers)\n",
    "Para localizar datos atípicos (outliers), tomamos de nuestro dataframe **joined_rates_data** las variables numéricas `suicide_rate`, `mental_disorder_count`, `population_count`y `mental_health_disorders_rate` y lo llamamos **joined_data_sub**.\n",
    "Usamos este nuevo dataframe para localizar valores atípicos por el método Z-score (normalizando datos).\n",
    "Veremos que hay datos atípicos que suponen aproximadamente un 5% del total de datos. Recalcularemos esos datos atípicos por el valor más cercano mediante técnica de capping (sustituirlo par un valor menor del percentil 99 o mayor del percentil 1)."
   ]
  },
  {
   "cell_type": "code",
   "execution_count": null,
   "metadata": {},
   "outputs": [],
   "source": [
    "# Extraemos las variables numéricas de joined_rates_data\n",
    "# Las almacenamos como joined_data_sub\n",
    "joined_data_sub <- joined_data_nona %>% dplyr:: select(suicide_rate,mental_disorder_count,population_count,\n",
    "                                mental_health_disorders_rate) \n",
    "\n",
    "summary(joined_data_sub) "
   ]
  },
  {
   "cell_type": "code",
   "execution_count": null,
   "metadata": {},
   "outputs": [],
   "source": [
    "# Visualización de datos: diagramas de cajas y bigotes de las variables\n",
    "# la distribución de datos con un boxplot para\n",
    "# localizar dónde hay valores atípicos\n",
    "par(mfrow=c(1,2))\n",
    "boxplot(x = joined_data_sub$suicide_rate, main=\"suicide_rate\")\n",
    "boxplot(x = joined_data_sub$mental_health_disorders_rate, main=\"mental_health_disorders_rate\")"
   ]
  },
  {
   "cell_type": "markdown",
   "metadata": {},
   "source": [
    "Confirmamos que hay valores atípicos en las 2 variables `suicide_rate` y `mental_health_disorders_rate`. Utilizamos el método z-score (en comparación con la distribución Z, valores que se alejan de la media más de 3 desviaciones típicas) para ver cuántos hay. "
   ]
  },
  {
   "cell_type": "code",
   "execution_count": null,
   "metadata": {},
   "outputs": [],
   "source": [
    "# Método z-score para detectar valores atípicos\n",
    "z.scores <- joined_data_sub  %>% scores(type = \"z\")\n",
    "length(which( abs(z.scores) >3 ))"
   ]
  },
  {
   "cell_type": "markdown",
   "metadata": {},
   "source": [
    "Una vez localizados los valores atípicos (outliers) en las variables numéricas mediante Z-score procedemos a sustituirlos por el valor más cercano mediante **técnica de capping** (sustituirlo por un valor menor del percentil 99 o mayor del percentil 1)."
   ]
  },
  {
   "cell_type": "code",
   "execution_count": null,
   "metadata": {},
   "outputs": [],
   "source": [
    "# Definimos la función cap para aplicar la técnica de capping\n",
    "cap <- function(x){\n",
    "quantiles <- quantile( x, c(.05, 0.25, 0.75, .95 ))\n",
    "x[ x < quantiles[2] - 1.5*IQR(x) ] <- quantiles[1]\n",
    "x[ x > quantiles[3] + 1.5*IQR(x) ] <- quantiles[4]\n",
    "x\n",
    "}\n",
    "\n",
    "# Aplicamos la función cap a nuestros datos numéricos de joined_data_sub\n",
    "# Lo almacenamos en joined_data_capped\n",
    "joined_data_capped <-  as.data.frame(sapply(joined_data_sub, FUN = cap ))\n",
    "summary(joined_data_capped)"
   ]
  },
  {
   "cell_type": "code",
   "execution_count": null,
   "metadata": {},
   "outputs": [],
   "source": [
    "# Volvemos a representar las variables \n",
    "par(mfrow=c(1,2))\n",
    "boxplot(x = joined_data_capped$suicide_rate, main=\"suicide_rate\")\n",
    "boxplot(x = joined_data_capped$mental_health_disorders_rate, main=\"mental_health_disorders_rate\")"
   ]
  },
  {
   "cell_type": "code",
   "execution_count": null,
   "metadata": {},
   "outputs": [],
   "source": [
    "# Comprobamos que ya no hay valores atípicos\n",
    "z.scores <- joined_data_capped  %>% scores(type = \"z\")\n",
    "length(which( abs(z.scores) >3 ))"
   ]
  },
  {
   "cell_type": "markdown",
   "metadata": {},
   "source": [
    "En resumen, en esta práctica hemos unido varias bases de datos, hemos encontrado y eliminado valores nulos y localizado valores atípicos que hemos sustituido mediante la técnica de capping."
   ]
  }
 ],
 "metadata": {
  "kernelspec": {
   "display_name": "R",
   "language": "R",
   "name": "ir"
  },
  "language_info": {
   "codemirror_mode": "r",
   "file_extension": ".r",
   "mimetype": "text/x-r-source",
   "name": "R",
   "pygments_lexer": "r",
   "version": "3.6.0"
  }
 },
 "nbformat": 4,
 "nbformat_minor": 4
}
